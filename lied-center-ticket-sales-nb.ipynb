{
 "cells": [
  {
   "cell_type": "markdown",
   "id": "39ad4f16",
   "metadata": {
    "papermill": {
     "duration": 0.021782,
     "end_time": "2022-10-13T02:55:58.654890",
     "exception": false,
     "start_time": "2022-10-13T02:55:58.633108",
     "status": "completed"
    },
    "tags": []
   },
   "source": [
    "We used datasets of performances from the Lied Center of Art ticket sales at the University of Kansas."
   ]
  },
  {
   "cell_type": "markdown",
   "id": "a5efe4c7",
   "metadata": {
    "id": "_9F5dsMYYJ9h",
    "papermill": {
     "duration": 0.01337,
     "end_time": "2022-10-13T02:55:58.681457",
     "exception": false,
     "start_time": "2022-10-13T02:55:58.668087",
     "status": "completed"
    },
    "tags": []
   },
   "source": [
    "# Data curation"
   ]
  },
  {
   "cell_type": "code",
   "execution_count": 1,
   "id": "4f4e9c0d",
   "metadata": {
    "execution": {
     "iopub.execute_input": "2022-10-13T02:55:58.710736Z",
     "iopub.status.busy": "2022-10-13T02:55:58.709733Z",
     "iopub.status.idle": "2022-10-13T02:55:59.830640Z",
     "shell.execute_reply": "2022-10-13T02:55:59.829442Z"
    },
    "id": "dHdAoxtWUB4R",
    "papermill": {
     "duration": 1.137554,
     "end_time": "2022-10-13T02:55:59.833530",
     "exception": false,
     "start_time": "2022-10-13T02:55:58.695976",
     "status": "completed"
    },
    "tags": []
   },
   "outputs": [],
   "source": [
    "import pandas as pd\n",
    "import numpy as np\n",
    "import matplotlib.pyplot as plt\n",
    "import seaborn as sns"
   ]
  },
  {
   "cell_type": "markdown",
   "id": "1ff00530",
   "metadata": {
    "papermill": {
     "duration": 0.012048,
     "end_time": "2022-10-13T02:55:59.858256",
     "exception": false,
     "start_time": "2022-10-13T02:55:59.846208",
     "status": "completed"
    },
    "tags": []
   },
   "source": [
    "Randomized Customer ID"
   ]
  },
  {
   "cell_type": "code",
   "execution_count": 2,
   "id": "c14d9e4e",
   "metadata": {
    "execution": {
     "iopub.execute_input": "2022-10-13T02:55:59.885186Z",
     "iopub.status.busy": "2022-10-13T02:55:59.884751Z",
     "iopub.status.idle": "2022-10-13T02:55:59.981671Z",
     "shell.execute_reply": "2022-10-13T02:55:59.980449Z"
    },
    "id": "ZrWX6DbWWl2-",
    "outputId": "089329e7-d697-4f9b-e197-429e369e50cd",
    "papermill": {
     "duration": 0.113323,
     "end_time": "2022-10-13T02:55:59.984067",
     "exception": false,
     "start_time": "2022-10-13T02:55:59.870744",
     "status": "completed"
    },
    "tags": []
   },
   "outputs": [
    {
     "data": {
      "text/html": [
       "<div>\n",
       "<style scoped>\n",
       "    .dataframe tbody tr th:only-of-type {\n",
       "        vertical-align: middle;\n",
       "    }\n",
       "\n",
       "    .dataframe tbody tr th {\n",
       "        vertical-align: top;\n",
       "    }\n",
       "\n",
       "    .dataframe thead th {\n",
       "        text-align: right;\n",
       "    }\n",
       "</style>\n",
       "<table border=\"1\" class=\"dataframe\">\n",
       "  <thead>\n",
       "    <tr style=\"text-align: right;\">\n",
       "      <th></th>\n",
       "      <th>Unnamed: 0</th>\n",
       "      <th>RandID</th>\n",
       "      <th>FotL</th>\n",
       "      <th>Year</th>\n",
       "      <th>FotLY10</th>\n",
       "      <th>FotLY11</th>\n",
       "      <th>FotLY12</th>\n",
       "      <th>FotLY14</th>\n",
       "      <th>FotLY15</th>\n",
       "      <th>FotLY16</th>\n",
       "      <th>FotLY17</th>\n",
       "      <th>FotLY18</th>\n",
       "      <th>FotLY19</th>\n",
       "    </tr>\n",
       "  </thead>\n",
       "  <tbody>\n",
       "    <tr>\n",
       "      <th>0</th>\n",
       "      <td>1</td>\n",
       "      <td>1201</td>\n",
       "      <td>NaN</td>\n",
       "      <td>18</td>\n",
       "      <td>NaN</td>\n",
       "      <td>NaN</td>\n",
       "      <td>NaN</td>\n",
       "      <td>NaN</td>\n",
       "      <td>NaN</td>\n",
       "      <td>NaN</td>\n",
       "      <td>NaN</td>\n",
       "      <td>False</td>\n",
       "      <td>NaN</td>\n",
       "    </tr>\n",
       "    <tr>\n",
       "      <th>1</th>\n",
       "      <td>2</td>\n",
       "      <td>1201</td>\n",
       "      <td>NaN</td>\n",
       "      <td>16</td>\n",
       "      <td>NaN</td>\n",
       "      <td>NaN</td>\n",
       "      <td>NaN</td>\n",
       "      <td>NaN</td>\n",
       "      <td>NaN</td>\n",
       "      <td>False</td>\n",
       "      <td>NaN</td>\n",
       "      <td>NaN</td>\n",
       "      <td>NaN</td>\n",
       "    </tr>\n",
       "    <tr>\n",
       "      <th>2</th>\n",
       "      <td>3</td>\n",
       "      <td>1201</td>\n",
       "      <td>NaN</td>\n",
       "      <td>15</td>\n",
       "      <td>NaN</td>\n",
       "      <td>NaN</td>\n",
       "      <td>NaN</td>\n",
       "      <td>NaN</td>\n",
       "      <td>False</td>\n",
       "      <td>NaN</td>\n",
       "      <td>NaN</td>\n",
       "      <td>NaN</td>\n",
       "      <td>NaN</td>\n",
       "    </tr>\n",
       "    <tr>\n",
       "      <th>3</th>\n",
       "      <td>4</td>\n",
       "      <td>8877</td>\n",
       "      <td>1.0</td>\n",
       "      <td>15</td>\n",
       "      <td>NaN</td>\n",
       "      <td>NaN</td>\n",
       "      <td>NaN</td>\n",
       "      <td>NaN</td>\n",
       "      <td>True</td>\n",
       "      <td>NaN</td>\n",
       "      <td>NaN</td>\n",
       "      <td>NaN</td>\n",
       "      <td>NaN</td>\n",
       "    </tr>\n",
       "    <tr>\n",
       "      <th>4</th>\n",
       "      <td>5</td>\n",
       "      <td>8877</td>\n",
       "      <td>1.0</td>\n",
       "      <td>18</td>\n",
       "      <td>NaN</td>\n",
       "      <td>NaN</td>\n",
       "      <td>NaN</td>\n",
       "      <td>NaN</td>\n",
       "      <td>NaN</td>\n",
       "      <td>NaN</td>\n",
       "      <td>NaN</td>\n",
       "      <td>True</td>\n",
       "      <td>NaN</td>\n",
       "    </tr>\n",
       "    <tr>\n",
       "      <th>5</th>\n",
       "      <td>6</td>\n",
       "      <td>8877</td>\n",
       "      <td>1.0</td>\n",
       "      <td>18</td>\n",
       "      <td>NaN</td>\n",
       "      <td>NaN</td>\n",
       "      <td>NaN</td>\n",
       "      <td>NaN</td>\n",
       "      <td>NaN</td>\n",
       "      <td>NaN</td>\n",
       "      <td>NaN</td>\n",
       "      <td>True</td>\n",
       "      <td>NaN</td>\n",
       "    </tr>\n",
       "    <tr>\n",
       "      <th>6</th>\n",
       "      <td>7</td>\n",
       "      <td>8877</td>\n",
       "      <td>1.0</td>\n",
       "      <td>18</td>\n",
       "      <td>NaN</td>\n",
       "      <td>NaN</td>\n",
       "      <td>NaN</td>\n",
       "      <td>NaN</td>\n",
       "      <td>NaN</td>\n",
       "      <td>NaN</td>\n",
       "      <td>NaN</td>\n",
       "      <td>True</td>\n",
       "      <td>NaN</td>\n",
       "    </tr>\n",
       "    <tr>\n",
       "      <th>7</th>\n",
       "      <td>8</td>\n",
       "      <td>8877</td>\n",
       "      <td>1.0</td>\n",
       "      <td>14</td>\n",
       "      <td>NaN</td>\n",
       "      <td>NaN</td>\n",
       "      <td>NaN</td>\n",
       "      <td>True</td>\n",
       "      <td>NaN</td>\n",
       "      <td>NaN</td>\n",
       "      <td>NaN</td>\n",
       "      <td>NaN</td>\n",
       "      <td>NaN</td>\n",
       "    </tr>\n",
       "    <tr>\n",
       "      <th>8</th>\n",
       "      <td>9</td>\n",
       "      <td>8877</td>\n",
       "      <td>1.0</td>\n",
       "      <td>15</td>\n",
       "      <td>NaN</td>\n",
       "      <td>NaN</td>\n",
       "      <td>NaN</td>\n",
       "      <td>NaN</td>\n",
       "      <td>True</td>\n",
       "      <td>NaN</td>\n",
       "      <td>NaN</td>\n",
       "      <td>NaN</td>\n",
       "      <td>NaN</td>\n",
       "    </tr>\n",
       "    <tr>\n",
       "      <th>9</th>\n",
       "      <td>10</td>\n",
       "      <td>8877</td>\n",
       "      <td>1.0</td>\n",
       "      <td>19</td>\n",
       "      <td>NaN</td>\n",
       "      <td>NaN</td>\n",
       "      <td>NaN</td>\n",
       "      <td>NaN</td>\n",
       "      <td>NaN</td>\n",
       "      <td>NaN</td>\n",
       "      <td>NaN</td>\n",
       "      <td>NaN</td>\n",
       "      <td>True</td>\n",
       "    </tr>\n",
       "  </tbody>\n",
       "</table>\n",
       "</div>"
      ],
      "text/plain": [
       "   Unnamed: 0  RandID  FotL  Year FotLY10 FotLY11 FotLY12 FotLY14 FotLY15  \\\n",
       "0           1    1201   NaN    18     NaN     NaN     NaN     NaN     NaN   \n",
       "1           2    1201   NaN    16     NaN     NaN     NaN     NaN     NaN   \n",
       "2           3    1201   NaN    15     NaN     NaN     NaN     NaN   False   \n",
       "3           4    8877   1.0    15     NaN     NaN     NaN     NaN    True   \n",
       "4           5    8877   1.0    18     NaN     NaN     NaN     NaN     NaN   \n",
       "5           6    8877   1.0    18     NaN     NaN     NaN     NaN     NaN   \n",
       "6           7    8877   1.0    18     NaN     NaN     NaN     NaN     NaN   \n",
       "7           8    8877   1.0    14     NaN     NaN     NaN    True     NaN   \n",
       "8           9    8877   1.0    15     NaN     NaN     NaN     NaN    True   \n",
       "9          10    8877   1.0    19     NaN     NaN     NaN     NaN     NaN   \n",
       "\n",
       "  FotLY16 FotLY17 FotLY18 FotLY19  \n",
       "0     NaN     NaN   False     NaN  \n",
       "1   False     NaN     NaN     NaN  \n",
       "2     NaN     NaN     NaN     NaN  \n",
       "3     NaN     NaN     NaN     NaN  \n",
       "4     NaN     NaN    True     NaN  \n",
       "5     NaN     NaN    True     NaN  \n",
       "6     NaN     NaN    True     NaN  \n",
       "7     NaN     NaN     NaN     NaN  \n",
       "8     NaN     NaN     NaN     NaN  \n",
       "9     NaN     NaN     NaN    True  "
      ]
     },
     "execution_count": 2,
     "metadata": {},
     "output_type": "execute_result"
    }
   ],
   "source": [
    "fotl = pd.read_csv(\"../input/lied-center-ticket-sales/ID_FotL_frameDS.csv\")\n",
    "fotl.head(10)"
   ]
  },
  {
   "cell_type": "markdown",
   "id": "598181f6",
   "metadata": {
    "papermill": {
     "duration": 0.012192,
     "end_time": "2022-10-13T02:56:00.009187",
     "exception": false,
     "start_time": "2022-10-13T02:55:59.996995",
     "status": "completed"
    },
    "tags": []
   },
   "source": [
    "Randomized customer ID and the number of tickets they bought for each show"
   ]
  },
  {
   "cell_type": "code",
   "execution_count": 3,
   "id": "e32f25d5",
   "metadata": {
    "execution": {
     "iopub.execute_input": "2022-10-13T02:56:00.037087Z",
     "iopub.status.busy": "2022-10-13T02:56:00.036672Z",
     "iopub.status.idle": "2022-10-13T02:56:00.070410Z",
     "shell.execute_reply": "2022-10-13T02:56:00.069488Z"
    },
    "id": "hqVFOZY7Xjst",
    "outputId": "11b24cb0-f302-4904-8004-30b5c47933f2",
    "papermill": {
     "duration": 0.050693,
     "end_time": "2022-10-13T02:56:00.072993",
     "exception": false,
     "start_time": "2022-10-13T02:56:00.022300",
     "status": "completed"
    },
    "tags": []
   },
   "outputs": [
    {
     "data": {
      "text/html": [
       "<div>\n",
       "<style scoped>\n",
       "    .dataframe tbody tr th:only-of-type {\n",
       "        vertical-align: middle;\n",
       "    }\n",
       "\n",
       "    .dataframe tbody tr th {\n",
       "        vertical-align: top;\n",
       "    }\n",
       "\n",
       "    .dataframe thead th {\n",
       "        text-align: right;\n",
       "    }\n",
       "</style>\n",
       "<table border=\"1\" class=\"dataframe\">\n",
       "  <thead>\n",
       "    <tr style=\"text-align: right;\">\n",
       "      <th></th>\n",
       "      <th>Unnamed: 0</th>\n",
       "      <th>RandID</th>\n",
       "      <th>TicketCount</th>\n",
       "      <th>performanceID</th>\n",
       "    </tr>\n",
       "  </thead>\n",
       "  <tbody>\n",
       "    <tr>\n",
       "      <th>0</th>\n",
       "      <td>1</td>\n",
       "      <td>1201</td>\n",
       "      <td>2</td>\n",
       "      <td>LC16JosephandtheAmazingSep23</td>\n",
       "    </tr>\n",
       "    <tr>\n",
       "      <th>1</th>\n",
       "      <td>2</td>\n",
       "      <td>1201</td>\n",
       "      <td>2</td>\n",
       "      <td>LC16BeautyandtheBeastMay05</td>\n",
       "    </tr>\n",
       "    <tr>\n",
       "      <th>2</th>\n",
       "      <td>3</td>\n",
       "      <td>1201</td>\n",
       "      <td>2</td>\n",
       "      <td>LC18SoundofMusicFeb20</td>\n",
       "    </tr>\n",
       "    <tr>\n",
       "      <th>3</th>\n",
       "      <td>4</td>\n",
       "      <td>8877</td>\n",
       "      <td>2</td>\n",
       "      <td>LC15CanadianBrass1212</td>\n",
       "    </tr>\n",
       "    <tr>\n",
       "      <th>4</th>\n",
       "      <td>5</td>\n",
       "      <td>8877</td>\n",
       "      <td>2</td>\n",
       "      <td>LC18LyleLovettJul27</td>\n",
       "    </tr>\n",
       "    <tr>\n",
       "      <th>5</th>\n",
       "      <td>6</td>\n",
       "      <td>8877</td>\n",
       "      <td>2</td>\n",
       "      <td>LC19CanadianBrassChristmasDec09</td>\n",
       "    </tr>\n",
       "    <tr>\n",
       "      <th>6</th>\n",
       "      <td>7</td>\n",
       "      <td>8877</td>\n",
       "      <td>2</td>\n",
       "      <td>LC15AnythingGoes1029</td>\n",
       "    </tr>\n",
       "    <tr>\n",
       "      <th>7</th>\n",
       "      <td>8</td>\n",
       "      <td>8877</td>\n",
       "      <td>2</td>\n",
       "      <td>LCSE09Mar11</td>\n",
       "    </tr>\n",
       "    <tr>\n",
       "      <th>8</th>\n",
       "      <td>9</td>\n",
       "      <td>8877</td>\n",
       "      <td>4</td>\n",
       "      <td>LC18WizardofOzJan31</td>\n",
       "    </tr>\n",
       "    <tr>\n",
       "      <th>9</th>\n",
       "      <td>10</td>\n",
       "      <td>8877</td>\n",
       "      <td>2</td>\n",
       "      <td>LC16MAMMAMIA!Nov21</td>\n",
       "    </tr>\n",
       "  </tbody>\n",
       "</table>\n",
       "</div>"
      ],
      "text/plain": [
       "   Unnamed: 0  RandID  TicketCount                    performanceID\n",
       "0           1    1201            2     LC16JosephandtheAmazingSep23\n",
       "1           2    1201            2       LC16BeautyandtheBeastMay05\n",
       "2           3    1201            2            LC18SoundofMusicFeb20\n",
       "3           4    8877            2            LC15CanadianBrass1212\n",
       "4           5    8877            2              LC18LyleLovettJul27\n",
       "5           6    8877            2  LC19CanadianBrassChristmasDec09\n",
       "6           7    8877            2             LC15AnythingGoes1029\n",
       "7           8    8877            2                      LCSE09Mar11\n",
       "8           9    8877            4              LC18WizardofOzJan31\n",
       "9          10    8877            2               LC16MAMMAMIA!Nov21"
      ]
     },
     "execution_count": 3,
     "metadata": {},
     "output_type": "execute_result"
    }
   ],
   "source": [
    "tickets = pd.read_csv(\"../input/lied-center-ticket-sales/ID_ticket_perfDS.csv\")\n",
    "tickets.head(10)"
   ]
  },
  {
   "cell_type": "markdown",
   "id": "32f8499b",
   "metadata": {
    "papermill": {
     "duration": 0.012631,
     "end_time": "2022-10-13T02:56:00.098690",
     "exception": false,
     "start_time": "2022-10-13T02:56:00.086059",
     "status": "completed"
    },
    "tags": []
   },
   "source": [
    "Details of Performances"
   ]
  },
  {
   "cell_type": "code",
   "execution_count": 4,
   "id": "be79ac8e",
   "metadata": {
    "execution": {
     "iopub.execute_input": "2022-10-13T02:56:00.126775Z",
     "iopub.status.busy": "2022-10-13T02:56:00.126098Z",
     "iopub.status.idle": "2022-10-13T02:56:00.150892Z",
     "shell.execute_reply": "2022-10-13T02:56:00.149782Z"
    },
    "id": "JGwgOGqSX27C",
    "outputId": "e4e99e8c-6a7b-420f-9b65-e472881d2d60",
    "papermill": {
     "duration": 0.041839,
     "end_time": "2022-10-13T02:56:00.153573",
     "exception": false,
     "start_time": "2022-10-13T02:56:00.111734",
     "status": "completed"
    },
    "tags": []
   },
   "outputs": [
    {
     "data": {
      "text/html": [
       "<div>\n",
       "<style scoped>\n",
       "    .dataframe tbody tr th:only-of-type {\n",
       "        vertical-align: middle;\n",
       "    }\n",
       "\n",
       "    .dataframe tbody tr th {\n",
       "        vertical-align: top;\n",
       "    }\n",
       "\n",
       "    .dataframe thead th {\n",
       "        text-align: right;\n",
       "    }\n",
       "</style>\n",
       "<table border=\"1\" class=\"dataframe\">\n",
       "  <thead>\n",
       "    <tr style=\"text-align: right;\">\n",
       "      <th></th>\n",
       "      <th>Unnamed: 0</th>\n",
       "      <th>performanceID</th>\n",
       "      <th>Date</th>\n",
       "      <th>Performance.Type</th>\n",
       "      <th>Repeat</th>\n",
       "      <th>Classic</th>\n",
       "      <th>Group</th>\n",
       "      <th>Vocal</th>\n",
       "      <th>Educational</th>\n",
       "      <th>Comedy</th>\n",
       "      <th>Kids</th>\n",
       "      <th>Cultural</th>\n",
       "      <th>Celebrity</th>\n",
       "    </tr>\n",
       "  </thead>\n",
       "  <tbody>\n",
       "    <tr>\n",
       "      <th>0</th>\n",
       "      <td>1</td>\n",
       "      <td>LC15MidtownMen1009</td>\n",
       "      <td>2014-10-09</td>\n",
       "      <td>Music</td>\n",
       "      <td>NaN</td>\n",
       "      <td>False</td>\n",
       "      <td>True</td>\n",
       "      <td>True</td>\n",
       "      <td>False</td>\n",
       "      <td>True</td>\n",
       "      <td>False</td>\n",
       "      <td>False</td>\n",
       "      <td>False</td>\n",
       "    </tr>\n",
       "    <tr>\n",
       "      <th>1</th>\n",
       "      <td>2</td>\n",
       "      <td>LC15AnythingGoes1029</td>\n",
       "      <td>2014-10-29</td>\n",
       "      <td>Musical</td>\n",
       "      <td>NaN</td>\n",
       "      <td>True</td>\n",
       "      <td>True</td>\n",
       "      <td>True</td>\n",
       "      <td>False</td>\n",
       "      <td>True</td>\n",
       "      <td>False</td>\n",
       "      <td>False</td>\n",
       "      <td>False</td>\n",
       "    </tr>\n",
       "    <tr>\n",
       "      <th>2</th>\n",
       "      <td>3</td>\n",
       "      <td>LC15Bernadette0324</td>\n",
       "      <td>2015-03-24</td>\n",
       "      <td>Music</td>\n",
       "      <td>NaN</td>\n",
       "      <td>False</td>\n",
       "      <td>True</td>\n",
       "      <td>True</td>\n",
       "      <td>False</td>\n",
       "      <td>False</td>\n",
       "      <td>False</td>\n",
       "      <td>False</td>\n",
       "      <td>True</td>\n",
       "    </tr>\n",
       "    <tr>\n",
       "      <th>3</th>\n",
       "      <td>4</td>\n",
       "      <td>LC15MillionDollar0411</td>\n",
       "      <td>2015-04-11</td>\n",
       "      <td>Music</td>\n",
       "      <td>NaN</td>\n",
       "      <td>False</td>\n",
       "      <td>True</td>\n",
       "      <td>True</td>\n",
       "      <td>False</td>\n",
       "      <td>False</td>\n",
       "      <td>False</td>\n",
       "      <td>False</td>\n",
       "      <td>False</td>\n",
       "    </tr>\n",
       "    <tr>\n",
       "      <th>4</th>\n",
       "      <td>5</td>\n",
       "      <td>LC16JosephandtheAmazingSep23</td>\n",
       "      <td>2015-09-23</td>\n",
       "      <td>Musical</td>\n",
       "      <td>NaN</td>\n",
       "      <td>True</td>\n",
       "      <td>True</td>\n",
       "      <td>True</td>\n",
       "      <td>False</td>\n",
       "      <td>False</td>\n",
       "      <td>True</td>\n",
       "      <td>True</td>\n",
       "      <td>False</td>\n",
       "    </tr>\n",
       "    <tr>\n",
       "      <th>5</th>\n",
       "      <td>6</td>\n",
       "      <td>LC16MAMMAMIA!Nov21</td>\n",
       "      <td>2015-11-21</td>\n",
       "      <td>Musical</td>\n",
       "      <td>NaN</td>\n",
       "      <td>True</td>\n",
       "      <td>True</td>\n",
       "      <td>True</td>\n",
       "      <td>False</td>\n",
       "      <td>True</td>\n",
       "      <td>False</td>\n",
       "      <td>False</td>\n",
       "      <td>False</td>\n",
       "    </tr>\n",
       "    <tr>\n",
       "      <th>6</th>\n",
       "      <td>7</td>\n",
       "      <td>LC16PattiLuPoneApr28</td>\n",
       "      <td>2016-04-28</td>\n",
       "      <td>Music</td>\n",
       "      <td>NaN</td>\n",
       "      <td>False</td>\n",
       "      <td>True</td>\n",
       "      <td>True</td>\n",
       "      <td>True</td>\n",
       "      <td>False</td>\n",
       "      <td>False</td>\n",
       "      <td>True</td>\n",
       "      <td>True</td>\n",
       "    </tr>\n",
       "    <tr>\n",
       "      <th>7</th>\n",
       "      <td>8</td>\n",
       "      <td>LC16BeautyandtheBeastMay05</td>\n",
       "      <td>2016-05-05</td>\n",
       "      <td>Musical</td>\n",
       "      <td>True</td>\n",
       "      <td>True</td>\n",
       "      <td>True</td>\n",
       "      <td>True</td>\n",
       "      <td>False</td>\n",
       "      <td>False</td>\n",
       "      <td>True</td>\n",
       "      <td>False</td>\n",
       "      <td>False</td>\n",
       "    </tr>\n",
       "    <tr>\n",
       "      <th>8</th>\n",
       "      <td>9</td>\n",
       "      <td>LC17CinderellaNov29</td>\n",
       "      <td>2016-11-29</td>\n",
       "      <td>Musical</td>\n",
       "      <td>True</td>\n",
       "      <td>True</td>\n",
       "      <td>True</td>\n",
       "      <td>True</td>\n",
       "      <td>False</td>\n",
       "      <td>False</td>\n",
       "      <td>True</td>\n",
       "      <td>False</td>\n",
       "      <td>False</td>\n",
       "    </tr>\n",
       "    <tr>\n",
       "      <th>9</th>\n",
       "      <td>10</td>\n",
       "      <td>LC17RudolphDec09</td>\n",
       "      <td>2016-12-09</td>\n",
       "      <td>Musical</td>\n",
       "      <td>True</td>\n",
       "      <td>True</td>\n",
       "      <td>True</td>\n",
       "      <td>True</td>\n",
       "      <td>False</td>\n",
       "      <td>True</td>\n",
       "      <td>True</td>\n",
       "      <td>False</td>\n",
       "      <td>False</td>\n",
       "    </tr>\n",
       "  </tbody>\n",
       "</table>\n",
       "</div>"
      ],
      "text/plain": [
       "   Unnamed: 0                 performanceID        Date Performance.Type  \\\n",
       "0           1            LC15MidtownMen1009  2014-10-09            Music   \n",
       "1           2          LC15AnythingGoes1029  2014-10-29          Musical   \n",
       "2           3            LC15Bernadette0324  2015-03-24            Music   \n",
       "3           4         LC15MillionDollar0411  2015-04-11            Music   \n",
       "4           5  LC16JosephandtheAmazingSep23  2015-09-23          Musical   \n",
       "5           6            LC16MAMMAMIA!Nov21  2015-11-21          Musical   \n",
       "6           7          LC16PattiLuPoneApr28  2016-04-28            Music   \n",
       "7           8    LC16BeautyandtheBeastMay05  2016-05-05          Musical   \n",
       "8           9           LC17CinderellaNov29  2016-11-29          Musical   \n",
       "9          10              LC17RudolphDec09  2016-12-09          Musical   \n",
       "\n",
       "  Repeat  Classic  Group  Vocal  Educational  Comedy   Kids  Cultural  \\\n",
       "0    NaN    False   True   True        False    True  False     False   \n",
       "1    NaN     True   True   True        False    True  False     False   \n",
       "2    NaN    False   True   True        False   False  False     False   \n",
       "3    NaN    False   True   True        False   False  False     False   \n",
       "4    NaN     True   True   True        False   False   True      True   \n",
       "5    NaN     True   True   True        False    True  False     False   \n",
       "6    NaN    False   True   True         True   False  False      True   \n",
       "7   True     True   True   True        False   False   True     False   \n",
       "8   True     True   True   True        False   False   True     False   \n",
       "9   True     True   True   True        False    True   True     False   \n",
       "\n",
       "   Celebrity  \n",
       "0      False  \n",
       "1      False  \n",
       "2       True  \n",
       "3      False  \n",
       "4      False  \n",
       "5      False  \n",
       "6       True  \n",
       "7      False  \n",
       "8      False  \n",
       "9      False  "
      ]
     },
     "execution_count": 4,
     "metadata": {},
     "output_type": "execute_result"
    }
   ],
   "source": [
    "shows = pd.read_csv(\"../input/lied-center-ticket-sales/Perform.csv\")\n",
    "shows.head(10)"
   ]
  },
  {
   "cell_type": "markdown",
   "id": "df925d8d",
   "metadata": {
    "id": "nWX_hlf-YblR",
    "papermill": {
     "duration": 0.012915,
     "end_time": "2022-10-13T02:56:00.179824",
     "exception": false,
     "start_time": "2022-10-13T02:56:00.166909",
     "status": "completed"
    },
    "tags": []
   },
   "source": [
    "# Data ethics"
   ]
  },
  {
   "cell_type": "markdown",
   "id": "da70e5f8",
   "metadata": {
    "id": "LOojZVZ9YevD",
    "papermill": {
     "duration": 0.01354,
     "end_time": "2022-10-13T02:56:00.206462",
     "exception": false,
     "start_time": "2022-10-13T02:56:00.192922",
     "status": "completed"
    },
    "tags": []
   },
   "source": [
    "The customer information that was included in the data used in this project was mostly about what kind of performance they attend, including educational, comedy, vocal, etc. The date the performance was attended was also known, as well as how many tickets were purchased by each customer, and the year that the performance was attended. To abide by ethical regulations and solve potential ethical issues, the following steps must be followed:\n",
    "\n",
    "1. Informed consent should be obtained for an optional decision to participate in data collection for accessing data records.\n",
    "2. Anonymity: Customers personal information should remain anonymous for optimal privacy regarding data collection and information. Customer names were not released and random IDs were assigned.\n",
    "3. No record of payment information should be received to ensure privacy regarding how the tickets to the performances were purchased, as well as eliminating the risk of theft or financial fraud.\n",
    "4. To additionally ensure the privacy of the data, no contact information was received or released.\n",
    "5. Confidentiality: The data collected should remain confidential and not released to the public without consent from customers.\n",
    "6. No potential for harm; although this specific study does not have a potential for harm because the data was just collected from performance attendance records, this should always be something to consider for any study with ethical guidelines."
   ]
  },
  {
   "cell_type": "markdown",
   "id": "ee5de236",
   "metadata": {
    "id": "jP4CyOM4Y5ZL",
    "papermill": {
     "duration": 0.015519,
     "end_time": "2022-10-13T02:56:00.245309",
     "exception": false,
     "start_time": "2022-10-13T02:56:00.229790",
     "status": "completed"
    },
    "tags": []
   },
   "source": [
    "# Data preparation"
   ]
  },
  {
   "cell_type": "markdown",
   "id": "8a7a9ab7",
   "metadata": {
    "id": "LAbWu_eAqEBR",
    "papermill": {
     "duration": 0.018505,
     "end_time": "2022-10-13T02:56:00.283588",
     "exception": false,
     "start_time": "2022-10-13T02:56:00.265083",
     "status": "completed"
    },
    "tags": []
   },
   "source": [
    "The data types in each column of Friends of the Lied data"
   ]
  },
  {
   "cell_type": "code",
   "execution_count": 5,
   "id": "52df8a7f",
   "metadata": {
    "execution": {
     "iopub.execute_input": "2022-10-13T02:56:00.316368Z",
     "iopub.status.busy": "2022-10-13T02:56:00.315970Z",
     "iopub.status.idle": "2022-10-13T02:56:00.324470Z",
     "shell.execute_reply": "2022-10-13T02:56:00.323269Z"
    },
    "id": "U1aWHj1eY7Mh",
    "outputId": "d50e1b6d-ac45-4e73-bc81-ae7032a99e36",
    "papermill": {
     "duration": 0.026541,
     "end_time": "2022-10-13T02:56:00.326775",
     "exception": false,
     "start_time": "2022-10-13T02:56:00.300234",
     "status": "completed"
    },
    "tags": []
   },
   "outputs": [
    {
     "data": {
      "text/plain": [
       "Unnamed: 0      int64\n",
       "RandID          int64\n",
       "FotL          float64\n",
       "Year            int64\n",
       "FotLY10        object\n",
       "FotLY11        object\n",
       "FotLY12        object\n",
       "FotLY14        object\n",
       "FotLY15        object\n",
       "FotLY16        object\n",
       "FotLY17        object\n",
       "FotLY18        object\n",
       "FotLY19        object\n",
       "dtype: object"
      ]
     },
     "execution_count": 5,
     "metadata": {},
     "output_type": "execute_result"
    }
   ],
   "source": [
    "fotl.dtypes"
   ]
  },
  {
   "cell_type": "markdown",
   "id": "304a6f37",
   "metadata": {
    "id": "JSQKzpVJqwS7",
    "papermill": {
     "duration": 0.01291,
     "end_time": "2022-10-13T02:56:00.353025",
     "exception": false,
     "start_time": "2022-10-13T02:56:00.340115",
     "status": "completed"
    },
    "tags": []
   },
   "source": [
    "Shape of Friends of the Lied data (rows and columns)"
   ]
  },
  {
   "cell_type": "code",
   "execution_count": 6,
   "id": "37266775",
   "metadata": {
    "execution": {
     "iopub.execute_input": "2022-10-13T02:56:00.381488Z",
     "iopub.status.busy": "2022-10-13T02:56:00.380844Z",
     "iopub.status.idle": "2022-10-13T02:56:00.388036Z",
     "shell.execute_reply": "2022-10-13T02:56:00.386919Z"
    },
    "id": "dagWGNEWZv3B",
    "outputId": "2fcbe123-19eb-4ddf-83ac-83ecc5173125",
    "papermill": {
     "duration": 0.02394,
     "end_time": "2022-10-13T02:56:00.390282",
     "exception": false,
     "start_time": "2022-10-13T02:56:00.366342",
     "status": "completed"
    },
    "tags": []
   },
   "outputs": [
    {
     "data": {
      "text/plain": [
       "(20106, 13)"
      ]
     },
     "execution_count": 6,
     "metadata": {},
     "output_type": "execute_result"
    }
   ],
   "source": [
    "fotl.shape"
   ]
  },
  {
   "cell_type": "markdown",
   "id": "3ec41e1c",
   "metadata": {
    "id": "ji-V2u1KqztV",
    "papermill": {
     "duration": 0.012993,
     "end_time": "2022-10-13T02:56:00.416629",
     "exception": false,
     "start_time": "2022-10-13T02:56:00.403636",
     "status": "completed"
    },
    "tags": []
   },
   "source": [
    "Size of Friends of the Lied data"
   ]
  },
  {
   "cell_type": "code",
   "execution_count": 7,
   "id": "e396bb13",
   "metadata": {
    "execution": {
     "iopub.execute_input": "2022-10-13T02:56:00.445530Z",
     "iopub.status.busy": "2022-10-13T02:56:00.445131Z",
     "iopub.status.idle": "2022-10-13T02:56:00.451938Z",
     "shell.execute_reply": "2022-10-13T02:56:00.450742Z"
    },
    "id": "u_a_fAgMZyOD",
    "outputId": "efb97e42-c919-42fe-e992-642d25a15f54",
    "papermill": {
     "duration": 0.023964,
     "end_time": "2022-10-13T02:56:00.454155",
     "exception": false,
     "start_time": "2022-10-13T02:56:00.430191",
     "status": "completed"
    },
    "tags": []
   },
   "outputs": [
    {
     "data": {
      "text/plain": [
       "261378"
      ]
     },
     "execution_count": 7,
     "metadata": {},
     "output_type": "execute_result"
    }
   ],
   "source": [
    "fotl.size"
   ]
  },
  {
   "cell_type": "markdown",
   "id": "b9d17ae3",
   "metadata": {
    "id": "-iZ-xOXGqJcj",
    "papermill": {
     "duration": 0.013123,
     "end_time": "2022-10-13T02:56:00.480772",
     "exception": false,
     "start_time": "2022-10-13T02:56:00.467649",
     "status": "completed"
    },
    "tags": []
   },
   "source": [
    "The data types in each column of Tickets data"
   ]
  },
  {
   "cell_type": "code",
   "execution_count": 8,
   "id": "eac94333",
   "metadata": {
    "execution": {
     "iopub.execute_input": "2022-10-13T02:56:00.509380Z",
     "iopub.status.busy": "2022-10-13T02:56:00.508977Z",
     "iopub.status.idle": "2022-10-13T02:56:00.517279Z",
     "shell.execute_reply": "2022-10-13T02:56:00.516124Z"
    },
    "id": "kzG_2vMnZMYJ",
    "outputId": "ee2c29cf-f4cb-40a1-98a1-b848b8a25409",
    "papermill": {
     "duration": 0.025314,
     "end_time": "2022-10-13T02:56:00.519586",
     "exception": false,
     "start_time": "2022-10-13T02:56:00.494272",
     "status": "completed"
    },
    "tags": []
   },
   "outputs": [
    {
     "data": {
      "text/plain": [
       "Unnamed: 0        int64\n",
       "RandID            int64\n",
       "TicketCount       int64\n",
       "performanceID    object\n",
       "dtype: object"
      ]
     },
     "execution_count": 8,
     "metadata": {},
     "output_type": "execute_result"
    }
   ],
   "source": [
    "tickets.dtypes"
   ]
  },
  {
   "cell_type": "markdown",
   "id": "b7fdf4ba",
   "metadata": {
    "id": "r3Y1WZS6q2AT",
    "papermill": {
     "duration": 0.013413,
     "end_time": "2022-10-13T02:56:00.546718",
     "exception": false,
     "start_time": "2022-10-13T02:56:00.533305",
     "status": "completed"
    },
    "tags": []
   },
   "source": [
    "Shape of Tickets data (rows and columns)"
   ]
  },
  {
   "cell_type": "code",
   "execution_count": 9,
   "id": "bfb6b5d3",
   "metadata": {
    "execution": {
     "iopub.execute_input": "2022-10-13T02:56:00.575640Z",
     "iopub.status.busy": "2022-10-13T02:56:00.575246Z",
     "iopub.status.idle": "2022-10-13T02:56:00.582294Z",
     "shell.execute_reply": "2022-10-13T02:56:00.581177Z"
    },
    "id": "NQQF3bXuZ_0x",
    "outputId": "a1c5d735-e6b2-439f-d5d9-55009581b585",
    "papermill": {
     "duration": 0.024167,
     "end_time": "2022-10-13T02:56:00.584528",
     "exception": false,
     "start_time": "2022-10-13T02:56:00.560361",
     "status": "completed"
    },
    "tags": []
   },
   "outputs": [
    {
     "data": {
      "text/plain": [
       "(20106, 4)"
      ]
     },
     "execution_count": 9,
     "metadata": {},
     "output_type": "execute_result"
    }
   ],
   "source": [
    "tickets.shape"
   ]
  },
  {
   "cell_type": "markdown",
   "id": "80b17b8e",
   "metadata": {
    "id": "JUCTH4Puq5KW",
    "papermill": {
     "duration": 0.013386,
     "end_time": "2022-10-13T02:56:00.611819",
     "exception": false,
     "start_time": "2022-10-13T02:56:00.598433",
     "status": "completed"
    },
    "tags": []
   },
   "source": [
    "Size of Tickets data"
   ]
  },
  {
   "cell_type": "code",
   "execution_count": 10,
   "id": "a71bd415",
   "metadata": {
    "execution": {
     "iopub.execute_input": "2022-10-13T02:56:00.640800Z",
     "iopub.status.busy": "2022-10-13T02:56:00.640421Z",
     "iopub.status.idle": "2022-10-13T02:56:00.647438Z",
     "shell.execute_reply": "2022-10-13T02:56:00.646302Z"
    },
    "id": "Cm0O0OToaByL",
    "outputId": "72614e8c-877c-46c6-f8b7-ad7859bbc10a",
    "papermill": {
     "duration": 0.024037,
     "end_time": "2022-10-13T02:56:00.649538",
     "exception": false,
     "start_time": "2022-10-13T02:56:00.625501",
     "status": "completed"
    },
    "tags": []
   },
   "outputs": [
    {
     "data": {
      "text/plain": [
       "80424"
      ]
     },
     "execution_count": 10,
     "metadata": {},
     "output_type": "execute_result"
    }
   ],
   "source": [
    "tickets.size"
   ]
  },
  {
   "cell_type": "markdown",
   "id": "5b4e1bb2",
   "metadata": {
    "id": "b2atCkVzqQjb",
    "papermill": {
     "duration": 0.013532,
     "end_time": "2022-10-13T02:56:00.677191",
     "exception": false,
     "start_time": "2022-10-13T02:56:00.663659",
     "status": "completed"
    },
    "tags": []
   },
   "source": [
    "The data types in each column of Shows data"
   ]
  },
  {
   "cell_type": "code",
   "execution_count": 11,
   "id": "a6774bcc",
   "metadata": {
    "execution": {
     "iopub.execute_input": "2022-10-13T02:56:00.706615Z",
     "iopub.status.busy": "2022-10-13T02:56:00.706231Z",
     "iopub.status.idle": "2022-10-13T02:56:00.714144Z",
     "shell.execute_reply": "2022-10-13T02:56:00.713022Z"
    },
    "id": "XCgwpN4aZPJ3",
    "outputId": "5170a4f5-fc49-451f-83df-a77d25f77277",
    "papermill": {
     "duration": 0.025449,
     "end_time": "2022-10-13T02:56:00.716416",
     "exception": false,
     "start_time": "2022-10-13T02:56:00.690967",
     "status": "completed"
    },
    "tags": []
   },
   "outputs": [
    {
     "data": {
      "text/plain": [
       "Unnamed: 0           int64\n",
       "performanceID       object\n",
       "Date                object\n",
       "Performance.Type    object\n",
       "Repeat              object\n",
       "Classic               bool\n",
       "Group                 bool\n",
       "Vocal                 bool\n",
       "Educational           bool\n",
       "Comedy                bool\n",
       "Kids                  bool\n",
       "Cultural              bool\n",
       "Celebrity             bool\n",
       "dtype: object"
      ]
     },
     "execution_count": 11,
     "metadata": {},
     "output_type": "execute_result"
    }
   ],
   "source": [
    "shows.dtypes"
   ]
  },
  {
   "cell_type": "markdown",
   "id": "a8957e65",
   "metadata": {
    "id": "XxaZHjwMq7c-",
    "papermill": {
     "duration": 0.013787,
     "end_time": "2022-10-13T02:56:00.744256",
     "exception": false,
     "start_time": "2022-10-13T02:56:00.730469",
     "status": "completed"
    },
    "tags": []
   },
   "source": [
    "Shape of Shows data (rows and columns)"
   ]
  },
  {
   "cell_type": "code",
   "execution_count": 12,
   "id": "cf04a2dd",
   "metadata": {
    "execution": {
     "iopub.execute_input": "2022-10-13T02:56:00.774588Z",
     "iopub.status.busy": "2022-10-13T02:56:00.774136Z",
     "iopub.status.idle": "2022-10-13T02:56:00.781085Z",
     "shell.execute_reply": "2022-10-13T02:56:00.779998Z"
    },
    "id": "UzpnjlBBaEpr",
    "outputId": "86906ec2-e38a-43c3-aed5-beb8cd5ef001",
    "papermill": {
     "duration": 0.024998,
     "end_time": "2022-10-13T02:56:00.783305",
     "exception": false,
     "start_time": "2022-10-13T02:56:00.758307",
     "status": "completed"
    },
    "tags": []
   },
   "outputs": [
    {
     "data": {
      "text/plain": [
       "(36, 13)"
      ]
     },
     "execution_count": 12,
     "metadata": {},
     "output_type": "execute_result"
    }
   ],
   "source": [
    "shows.shape"
   ]
  },
  {
   "cell_type": "markdown",
   "id": "37590785",
   "metadata": {
    "id": "fPbYcUqXq-2T",
    "papermill": {
     "duration": 0.013797,
     "end_time": "2022-10-13T02:56:00.811281",
     "exception": false,
     "start_time": "2022-10-13T02:56:00.797484",
     "status": "completed"
    },
    "tags": []
   },
   "source": [
    "Size of Shows data"
   ]
  },
  {
   "cell_type": "code",
   "execution_count": 13,
   "id": "cbcc834c",
   "metadata": {
    "execution": {
     "iopub.execute_input": "2022-10-13T02:56:00.841184Z",
     "iopub.status.busy": "2022-10-13T02:56:00.840814Z",
     "iopub.status.idle": "2022-10-13T02:56:00.847281Z",
     "shell.execute_reply": "2022-10-13T02:56:00.846262Z"
    },
    "id": "wNti2WKnaGjs",
    "outputId": "c0c96add-bfce-45e2-c251-3de898049cef",
    "papermill": {
     "duration": 0.023953,
     "end_time": "2022-10-13T02:56:00.849340",
     "exception": false,
     "start_time": "2022-10-13T02:56:00.825387",
     "status": "completed"
    },
    "tags": []
   },
   "outputs": [
    {
     "data": {
      "text/plain": [
       "468"
      ]
     },
     "execution_count": 13,
     "metadata": {},
     "output_type": "execute_result"
    }
   ],
   "source": [
    "shows.size"
   ]
  },
  {
   "cell_type": "markdown",
   "id": "38255fee",
   "metadata": {
    "id": "zGUtNXVeeZhZ",
    "papermill": {
     "duration": 0.014059,
     "end_time": "2022-10-13T02:56:00.877536",
     "exception": false,
     "start_time": "2022-10-13T02:56:00.863477",
     "status": "completed"
    },
    "tags": []
   },
   "source": [
    "# Data Exploration/Analysis"
   ]
  },
  {
   "cell_type": "markdown",
   "id": "22a2d511",
   "metadata": {
    "id": "-I4XZTthel5d",
    "papermill": {
     "duration": 0.013834,
     "end_time": "2022-10-13T02:56:00.905698",
     "exception": false,
     "start_time": "2022-10-13T02:56:00.891864",
     "status": "completed"
    },
    "tags": []
   },
   "source": [
    "Merged dataset of Ticket and Show data:"
   ]
  },
  {
   "cell_type": "code",
   "execution_count": 14,
   "id": "7f3f28e3",
   "metadata": {
    "execution": {
     "iopub.execute_input": "2022-10-13T02:56:00.935852Z",
     "iopub.status.busy": "2022-10-13T02:56:00.935429Z",
     "iopub.status.idle": "2022-10-13T02:56:00.979770Z",
     "shell.execute_reply": "2022-10-13T02:56:00.978557Z"
    },
    "id": "sG44A3_4ek-L",
    "outputId": "4b350e27-fa5c-4a35-8739-da90f5f3a9b0",
    "papermill": {
     "duration": 0.062136,
     "end_time": "2022-10-13T02:56:00.981995",
     "exception": false,
     "start_time": "2022-10-13T02:56:00.919859",
     "status": "completed"
    },
    "tags": []
   },
   "outputs": [
    {
     "data": {
      "text/html": [
       "<div>\n",
       "<style scoped>\n",
       "    .dataframe tbody tr th:only-of-type {\n",
       "        vertical-align: middle;\n",
       "    }\n",
       "\n",
       "    .dataframe tbody tr th {\n",
       "        vertical-align: top;\n",
       "    }\n",
       "\n",
       "    .dataframe thead th {\n",
       "        text-align: right;\n",
       "    }\n",
       "</style>\n",
       "<table border=\"1\" class=\"dataframe\">\n",
       "  <thead>\n",
       "    <tr style=\"text-align: right;\">\n",
       "      <th></th>\n",
       "      <th>Unnamed: 0_x</th>\n",
       "      <th>RandID</th>\n",
       "      <th>TicketCount</th>\n",
       "      <th>performanceID</th>\n",
       "      <th>Unnamed: 0_y</th>\n",
       "      <th>Date</th>\n",
       "      <th>Performance.Type</th>\n",
       "      <th>Repeat</th>\n",
       "      <th>Classic</th>\n",
       "      <th>Group</th>\n",
       "      <th>Vocal</th>\n",
       "      <th>Educational</th>\n",
       "      <th>Comedy</th>\n",
       "      <th>Kids</th>\n",
       "      <th>Cultural</th>\n",
       "      <th>Celebrity</th>\n",
       "    </tr>\n",
       "  </thead>\n",
       "  <tbody>\n",
       "    <tr>\n",
       "      <th>0</th>\n",
       "      <td>1</td>\n",
       "      <td>1201</td>\n",
       "      <td>2</td>\n",
       "      <td>LC16JosephandtheAmazingSep23</td>\n",
       "      <td>5</td>\n",
       "      <td>2015-09-23</td>\n",
       "      <td>Musical</td>\n",
       "      <td>NaN</td>\n",
       "      <td>True</td>\n",
       "      <td>True</td>\n",
       "      <td>True</td>\n",
       "      <td>False</td>\n",
       "      <td>False</td>\n",
       "      <td>True</td>\n",
       "      <td>True</td>\n",
       "      <td>False</td>\n",
       "    </tr>\n",
       "    <tr>\n",
       "      <th>1</th>\n",
       "      <td>2</td>\n",
       "      <td>1201</td>\n",
       "      <td>2</td>\n",
       "      <td>LC16BeautyandtheBeastMay05</td>\n",
       "      <td>8</td>\n",
       "      <td>2016-05-05</td>\n",
       "      <td>Musical</td>\n",
       "      <td>True</td>\n",
       "      <td>True</td>\n",
       "      <td>True</td>\n",
       "      <td>True</td>\n",
       "      <td>False</td>\n",
       "      <td>False</td>\n",
       "      <td>True</td>\n",
       "      <td>False</td>\n",
       "      <td>False</td>\n",
       "    </tr>\n",
       "    <tr>\n",
       "      <th>2</th>\n",
       "      <td>3</td>\n",
       "      <td>1201</td>\n",
       "      <td>2</td>\n",
       "      <td>LC18SoundofMusicFeb20</td>\n",
       "      <td>16</td>\n",
       "      <td>2018-02-20</td>\n",
       "      <td>Musical</td>\n",
       "      <td>False</td>\n",
       "      <td>True</td>\n",
       "      <td>True</td>\n",
       "      <td>True</td>\n",
       "      <td>False</td>\n",
       "      <td>False</td>\n",
       "      <td>True</td>\n",
       "      <td>False</td>\n",
       "      <td>False</td>\n",
       "    </tr>\n",
       "    <tr>\n",
       "      <th>3</th>\n",
       "      <td>4</td>\n",
       "      <td>8877</td>\n",
       "      <td>2</td>\n",
       "      <td>LC15CanadianBrass1212</td>\n",
       "      <td>25</td>\n",
       "      <td>2014-12-12</td>\n",
       "      <td>Music</td>\n",
       "      <td>True</td>\n",
       "      <td>False</td>\n",
       "      <td>True</td>\n",
       "      <td>False</td>\n",
       "      <td>False</td>\n",
       "      <td>False</td>\n",
       "      <td>True</td>\n",
       "      <td>True</td>\n",
       "      <td>False</td>\n",
       "    </tr>\n",
       "    <tr>\n",
       "      <th>4</th>\n",
       "      <td>5</td>\n",
       "      <td>8877</td>\n",
       "      <td>2</td>\n",
       "      <td>LC18LyleLovettJul27</td>\n",
       "      <td>36</td>\n",
       "      <td>2018-07-27</td>\n",
       "      <td>Music</td>\n",
       "      <td>True</td>\n",
       "      <td>False</td>\n",
       "      <td>True</td>\n",
       "      <td>True</td>\n",
       "      <td>False</td>\n",
       "      <td>False</td>\n",
       "      <td>False</td>\n",
       "      <td>True</td>\n",
       "      <td>True</td>\n",
       "    </tr>\n",
       "    <tr>\n",
       "      <th>5</th>\n",
       "      <td>6</td>\n",
       "      <td>8877</td>\n",
       "      <td>2</td>\n",
       "      <td>LC19CanadianBrassChristmasDec09</td>\n",
       "      <td>26</td>\n",
       "      <td>2018-12-09</td>\n",
       "      <td>Music</td>\n",
       "      <td>True</td>\n",
       "      <td>False</td>\n",
       "      <td>True</td>\n",
       "      <td>False</td>\n",
       "      <td>False</td>\n",
       "      <td>False</td>\n",
       "      <td>True</td>\n",
       "      <td>True</td>\n",
       "      <td>False</td>\n",
       "    </tr>\n",
       "    <tr>\n",
       "      <th>6</th>\n",
       "      <td>7</td>\n",
       "      <td>8877</td>\n",
       "      <td>2</td>\n",
       "      <td>LC15AnythingGoes1029</td>\n",
       "      <td>2</td>\n",
       "      <td>2014-10-29</td>\n",
       "      <td>Musical</td>\n",
       "      <td>NaN</td>\n",
       "      <td>True</td>\n",
       "      <td>True</td>\n",
       "      <td>True</td>\n",
       "      <td>False</td>\n",
       "      <td>True</td>\n",
       "      <td>False</td>\n",
       "      <td>False</td>\n",
       "      <td>False</td>\n",
       "    </tr>\n",
       "    <tr>\n",
       "      <th>7</th>\n",
       "      <td>8</td>\n",
       "      <td>8877</td>\n",
       "      <td>2</td>\n",
       "      <td>LCSE09Mar11</td>\n",
       "      <td>30</td>\n",
       "      <td>2011-03-09</td>\n",
       "      <td>Speaker</td>\n",
       "      <td>True</td>\n",
       "      <td>False</td>\n",
       "      <td>False</td>\n",
       "      <td>True</td>\n",
       "      <td>True</td>\n",
       "      <td>True</td>\n",
       "      <td>False</td>\n",
       "      <td>False</td>\n",
       "      <td>True</td>\n",
       "    </tr>\n",
       "    <tr>\n",
       "      <th>8</th>\n",
       "      <td>9</td>\n",
       "      <td>8877</td>\n",
       "      <td>4</td>\n",
       "      <td>LC18WizardofOzJan31</td>\n",
       "      <td>14</td>\n",
       "      <td>2018-01-31</td>\n",
       "      <td>Musical</td>\n",
       "      <td>False</td>\n",
       "      <td>True</td>\n",
       "      <td>True</td>\n",
       "      <td>True</td>\n",
       "      <td>False</td>\n",
       "      <td>False</td>\n",
       "      <td>True</td>\n",
       "      <td>True</td>\n",
       "      <td>False</td>\n",
       "    </tr>\n",
       "    <tr>\n",
       "      <th>9</th>\n",
       "      <td>10</td>\n",
       "      <td>8877</td>\n",
       "      <td>2</td>\n",
       "      <td>LC16MAMMAMIA!Nov21</td>\n",
       "      <td>6</td>\n",
       "      <td>2015-11-21</td>\n",
       "      <td>Musical</td>\n",
       "      <td>NaN</td>\n",
       "      <td>True</td>\n",
       "      <td>True</td>\n",
       "      <td>True</td>\n",
       "      <td>False</td>\n",
       "      <td>True</td>\n",
       "      <td>False</td>\n",
       "      <td>False</td>\n",
       "      <td>False</td>\n",
       "    </tr>\n",
       "  </tbody>\n",
       "</table>\n",
       "</div>"
      ],
      "text/plain": [
       "   Unnamed: 0_x  RandID  TicketCount                    performanceID  \\\n",
       "0             1    1201            2     LC16JosephandtheAmazingSep23   \n",
       "1             2    1201            2       LC16BeautyandtheBeastMay05   \n",
       "2             3    1201            2            LC18SoundofMusicFeb20   \n",
       "3             4    8877            2            LC15CanadianBrass1212   \n",
       "4             5    8877            2              LC18LyleLovettJul27   \n",
       "5             6    8877            2  LC19CanadianBrassChristmasDec09   \n",
       "6             7    8877            2             LC15AnythingGoes1029   \n",
       "7             8    8877            2                      LCSE09Mar11   \n",
       "8             9    8877            4              LC18WizardofOzJan31   \n",
       "9            10    8877            2               LC16MAMMAMIA!Nov21   \n",
       "\n",
       "   Unnamed: 0_y        Date Performance.Type Repeat  Classic  Group  Vocal  \\\n",
       "0             5  2015-09-23          Musical    NaN     True   True   True   \n",
       "1             8  2016-05-05          Musical   True     True   True   True   \n",
       "2            16  2018-02-20          Musical  False     True   True   True   \n",
       "3            25  2014-12-12            Music   True    False   True  False   \n",
       "4            36  2018-07-27            Music   True    False   True   True   \n",
       "5            26  2018-12-09            Music   True    False   True  False   \n",
       "6             2  2014-10-29          Musical    NaN     True   True   True   \n",
       "7            30  2011-03-09          Speaker   True    False  False   True   \n",
       "8            14  2018-01-31          Musical  False     True   True   True   \n",
       "9             6  2015-11-21          Musical    NaN     True   True   True   \n",
       "\n",
       "   Educational  Comedy   Kids  Cultural  Celebrity  \n",
       "0        False   False   True      True      False  \n",
       "1        False   False   True     False      False  \n",
       "2        False   False   True     False      False  \n",
       "3        False   False   True      True      False  \n",
       "4        False   False  False      True       True  \n",
       "5        False   False   True      True      False  \n",
       "6        False    True  False     False      False  \n",
       "7         True    True  False     False       True  \n",
       "8        False   False   True      True      False  \n",
       "9        False    True  False     False      False  "
      ]
     },
     "execution_count": 14,
     "metadata": {},
     "output_type": "execute_result"
    }
   ],
   "source": [
    "tickets_shows = pd.merge(tickets, shows,\n",
    "           how='left', on='performanceID')\n",
    "tickets_shows.head(10)"
   ]
  },
  {
   "cell_type": "markdown",
   "id": "44037391",
   "metadata": {
    "id": "GtMWiDzqeJKn",
    "papermill": {
     "duration": 0.01415,
     "end_time": "2022-10-13T02:56:01.011181",
     "exception": false,
     "start_time": "2022-10-13T02:56:00.997031",
     "status": "completed"
    },
    "tags": []
   },
   "source": [
    "Most tickets bought by one person:"
   ]
  },
  {
   "cell_type": "code",
   "execution_count": 15,
   "id": "ad5d7730",
   "metadata": {
    "execution": {
     "iopub.execute_input": "2022-10-13T02:56:01.041793Z",
     "iopub.status.busy": "2022-10-13T02:56:01.041383Z",
     "iopub.status.idle": "2022-10-13T02:56:01.049497Z",
     "shell.execute_reply": "2022-10-13T02:56:01.048458Z"
    },
    "id": "bTB6jQLTbs_e",
    "outputId": "0b43a4ca-c8d9-47fc-dd4c-333dd3635544",
    "papermill": {
     "duration": 0.026168,
     "end_time": "2022-10-13T02:56:01.051821",
     "exception": false,
     "start_time": "2022-10-13T02:56:01.025653",
     "status": "completed"
    },
    "tags": []
   },
   "outputs": [
    {
     "data": {
      "text/plain": [
       "113"
      ]
     },
     "execution_count": 15,
     "metadata": {},
     "output_type": "execute_result"
    }
   ],
   "source": [
    "tickets_shows[\"TicketCount\"].max()"
   ]
  },
  {
   "cell_type": "markdown",
   "id": "36106aa3",
   "metadata": {
    "id": "N01QS99-eM1B",
    "papermill": {
     "duration": 0.014353,
     "end_time": "2022-10-13T02:56:01.081041",
     "exception": false,
     "start_time": "2022-10-13T02:56:01.066688",
     "status": "completed"
    },
    "tags": []
   },
   "source": [
    "Person who bought those tickets:"
   ]
  },
  {
   "cell_type": "code",
   "execution_count": 16,
   "id": "4aa43af2",
   "metadata": {
    "execution": {
     "iopub.execute_input": "2022-10-13T02:56:01.112890Z",
     "iopub.status.busy": "2022-10-13T02:56:01.112495Z",
     "iopub.status.idle": "2022-10-13T02:56:01.131617Z",
     "shell.execute_reply": "2022-10-13T02:56:01.130675Z"
    },
    "id": "argp0OMtcIL5",
    "outputId": "507e91a9-9e20-4786-ab7e-e469bd5ca7a5",
    "papermill": {
     "duration": 0.037872,
     "end_time": "2022-10-13T02:56:01.133678",
     "exception": false,
     "start_time": "2022-10-13T02:56:01.095806",
     "status": "completed"
    },
    "tags": []
   },
   "outputs": [
    {
     "data": {
      "text/html": [
       "<div>\n",
       "<style scoped>\n",
       "    .dataframe tbody tr th:only-of-type {\n",
       "        vertical-align: middle;\n",
       "    }\n",
       "\n",
       "    .dataframe tbody tr th {\n",
       "        vertical-align: top;\n",
       "    }\n",
       "\n",
       "    .dataframe thead th {\n",
       "        text-align: right;\n",
       "    }\n",
       "</style>\n",
       "<table border=\"1\" class=\"dataframe\">\n",
       "  <thead>\n",
       "    <tr style=\"text-align: right;\">\n",
       "      <th></th>\n",
       "      <th>Unnamed: 0_x</th>\n",
       "      <th>RandID</th>\n",
       "      <th>TicketCount</th>\n",
       "      <th>performanceID</th>\n",
       "      <th>Unnamed: 0_y</th>\n",
       "      <th>Date</th>\n",
       "      <th>Performance.Type</th>\n",
       "      <th>Repeat</th>\n",
       "      <th>Classic</th>\n",
       "      <th>Group</th>\n",
       "      <th>Vocal</th>\n",
       "      <th>Educational</th>\n",
       "      <th>Comedy</th>\n",
       "      <th>Kids</th>\n",
       "      <th>Cultural</th>\n",
       "      <th>Celebrity</th>\n",
       "    </tr>\n",
       "  </thead>\n",
       "  <tbody>\n",
       "    <tr>\n",
       "      <th>16272</th>\n",
       "      <td>16273</td>\n",
       "      <td>1580</td>\n",
       "      <td>113</td>\n",
       "      <td>LC18BlackViolinSep22</td>\n",
       "      <td>23</td>\n",
       "      <td>2017-09-22</td>\n",
       "      <td>Music</td>\n",
       "      <td>True</td>\n",
       "      <td>False</td>\n",
       "      <td>True</td>\n",
       "      <td>False</td>\n",
       "      <td>False</td>\n",
       "      <td>False</td>\n",
       "      <td>True</td>\n",
       "      <td>True</td>\n",
       "      <td>True</td>\n",
       "    </tr>\n",
       "  </tbody>\n",
       "</table>\n",
       "</div>"
      ],
      "text/plain": [
       "       Unnamed: 0_x  RandID  TicketCount         performanceID  Unnamed: 0_y  \\\n",
       "16272         16273    1580          113  LC18BlackViolinSep22            23   \n",
       "\n",
       "             Date Performance.Type Repeat  Classic  Group  Vocal  Educational  \\\n",
       "16272  2017-09-22            Music   True    False   True  False        False   \n",
       "\n",
       "       Comedy  Kids  Cultural  Celebrity  \n",
       "16272   False  True      True       True  "
      ]
     },
     "execution_count": 16,
     "metadata": {},
     "output_type": "execute_result"
    }
   ],
   "source": [
    "tickets_shows[tickets_shows[\"TicketCount\"]==113]"
   ]
  },
  {
   "cell_type": "markdown",
   "id": "5fed6b6f",
   "metadata": {
    "id": "BRKdmh4GePFl",
    "papermill": {
     "duration": 0.014466,
     "end_time": "2022-10-13T02:56:01.163021",
     "exception": false,
     "start_time": "2022-10-13T02:56:01.148555",
     "status": "completed"
    },
    "tags": []
   },
   "source": [
    "All tickets bought by that person:"
   ]
  },
  {
   "cell_type": "code",
   "execution_count": 17,
   "id": "b5ee91f9",
   "metadata": {
    "execution": {
     "iopub.execute_input": "2022-10-13T02:56:01.195203Z",
     "iopub.status.busy": "2022-10-13T02:56:01.194754Z",
     "iopub.status.idle": "2022-10-13T02:56:01.213785Z",
     "shell.execute_reply": "2022-10-13T02:56:01.212345Z"
    },
    "id": "2dLAPQ42d50E",
    "outputId": "12c16bb6-8d2f-4f72-b89c-3db606fcdeda",
    "papermill": {
     "duration": 0.037404,
     "end_time": "2022-10-13T02:56:01.215956",
     "exception": false,
     "start_time": "2022-10-13T02:56:01.178552",
     "status": "completed"
    },
    "tags": []
   },
   "outputs": [
    {
     "data": {
      "text/html": [
       "<div>\n",
       "<style scoped>\n",
       "    .dataframe tbody tr th:only-of-type {\n",
       "        vertical-align: middle;\n",
       "    }\n",
       "\n",
       "    .dataframe tbody tr th {\n",
       "        vertical-align: top;\n",
       "    }\n",
       "\n",
       "    .dataframe thead th {\n",
       "        text-align: right;\n",
       "    }\n",
       "</style>\n",
       "<table border=\"1\" class=\"dataframe\">\n",
       "  <thead>\n",
       "    <tr style=\"text-align: right;\">\n",
       "      <th></th>\n",
       "      <th>Unnamed: 0_x</th>\n",
       "      <th>RandID</th>\n",
       "      <th>TicketCount</th>\n",
       "      <th>performanceID</th>\n",
       "      <th>Unnamed: 0_y</th>\n",
       "      <th>Date</th>\n",
       "      <th>Performance.Type</th>\n",
       "      <th>Repeat</th>\n",
       "      <th>Classic</th>\n",
       "      <th>Group</th>\n",
       "      <th>Vocal</th>\n",
       "      <th>Educational</th>\n",
       "      <th>Comedy</th>\n",
       "      <th>Kids</th>\n",
       "      <th>Cultural</th>\n",
       "      <th>Celebrity</th>\n",
       "    </tr>\n",
       "  </thead>\n",
       "  <tbody>\n",
       "    <tr>\n",
       "      <th>16272</th>\n",
       "      <td>16273</td>\n",
       "      <td>1580</td>\n",
       "      <td>113</td>\n",
       "      <td>LC18BlackViolinSep22</td>\n",
       "      <td>23</td>\n",
       "      <td>2017-09-22</td>\n",
       "      <td>Music</td>\n",
       "      <td>True</td>\n",
       "      <td>False</td>\n",
       "      <td>True</td>\n",
       "      <td>False</td>\n",
       "      <td>False</td>\n",
       "      <td>False</td>\n",
       "      <td>True</td>\n",
       "      <td>True</td>\n",
       "      <td>True</td>\n",
       "    </tr>\n",
       "  </tbody>\n",
       "</table>\n",
       "</div>"
      ],
      "text/plain": [
       "       Unnamed: 0_x  RandID  TicketCount         performanceID  Unnamed: 0_y  \\\n",
       "16272         16273    1580          113  LC18BlackViolinSep22            23   \n",
       "\n",
       "             Date Performance.Type Repeat  Classic  Group  Vocal  Educational  \\\n",
       "16272  2017-09-22            Music   True    False   True  False        False   \n",
       "\n",
       "       Comedy  Kids  Cultural  Celebrity  \n",
       "16272   False  True      True       True  "
      ]
     },
     "execution_count": 17,
     "metadata": {},
     "output_type": "execute_result"
    }
   ],
   "source": [
    "tickets_shows[tickets_shows[\"RandID\"]==1580]"
   ]
  },
  {
   "cell_type": "markdown",
   "id": "b3953d1c",
   "metadata": {
    "id": "rmfZ2K1mm7bz",
    "papermill": {
     "duration": 0.014684,
     "end_time": "2022-10-13T02:56:01.245835",
     "exception": false,
     "start_time": "2022-10-13T02:56:01.231151",
     "status": "completed"
    },
    "tags": []
   },
   "source": [
    "Total number of tickets bought for each show in descending order:"
   ]
  },
  {
   "cell_type": "code",
   "execution_count": 18,
   "id": "7ab2ac86",
   "metadata": {
    "execution": {
     "iopub.execute_input": "2022-10-13T02:56:01.277753Z",
     "iopub.status.busy": "2022-10-13T02:56:01.277281Z",
     "iopub.status.idle": "2022-10-13T02:56:01.285142Z",
     "shell.execute_reply": "2022-10-13T02:56:01.283900Z"
    },
    "id": "f70XQU-vmfCW",
    "papermill": {
     "duration": 0.026664,
     "end_time": "2022-10-13T02:56:01.287561",
     "exception": false,
     "start_time": "2022-10-13T02:56:01.260897",
     "status": "completed"
    },
    "tags": []
   },
   "outputs": [],
   "source": [
    "tickets_shows_sub = tickets_shows[[\"performanceID\",\"TicketCount\",\"Classic\",\"Group\",\"Vocal\",\"Educational\",\"Comedy\",\"Kids\",\"Cultural\",\"Celebrity\",\"Repeat\",\"Performance.Type\"]]"
   ]
  },
  {
   "cell_type": "code",
   "execution_count": 19,
   "id": "4fa45d0e",
   "metadata": {
    "execution": {
     "iopub.execute_input": "2022-10-13T02:56:01.319801Z",
     "iopub.status.busy": "2022-10-13T02:56:01.319380Z",
     "iopub.status.idle": "2022-10-13T02:56:01.371039Z",
     "shell.execute_reply": "2022-10-13T02:56:01.369817Z"
    },
    "id": "rI2u6bGAqN2Q",
    "outputId": "a3b2a546-1310-4bd9-959a-57b97a515f28",
    "papermill": {
     "duration": 0.070854,
     "end_time": "2022-10-13T02:56:01.373576",
     "exception": false,
     "start_time": "2022-10-13T02:56:01.302722",
     "status": "completed"
    },
    "tags": []
   },
   "outputs": [
    {
     "data": {
      "text/html": [
       "<div>\n",
       "<style scoped>\n",
       "    .dataframe tbody tr th:only-of-type {\n",
       "        vertical-align: middle;\n",
       "    }\n",
       "\n",
       "    .dataframe tbody tr th {\n",
       "        vertical-align: top;\n",
       "    }\n",
       "\n",
       "    .dataframe thead th {\n",
       "        text-align: right;\n",
       "    }\n",
       "</style>\n",
       "<table border=\"1\" class=\"dataframe\">\n",
       "  <thead>\n",
       "    <tr style=\"text-align: right;\">\n",
       "      <th></th>\n",
       "      <th>performanceID</th>\n",
       "      <th>Repeat</th>\n",
       "      <th>Performance.Type</th>\n",
       "      <th>Classic</th>\n",
       "      <th>Group</th>\n",
       "      <th>Vocal</th>\n",
       "      <th>Educational</th>\n",
       "      <th>Comedy</th>\n",
       "      <th>Kids</th>\n",
       "      <th>Cultural</th>\n",
       "      <th>Celebrity</th>\n",
       "      <th>TicketCount</th>\n",
       "    </tr>\n",
       "  </thead>\n",
       "  <tbody>\n",
       "    <tr>\n",
       "      <th>26</th>\n",
       "      <td>LCSE09Mar11</td>\n",
       "      <td>True</td>\n",
       "      <td>Speaker</td>\n",
       "      <td>False</td>\n",
       "      <td>False</td>\n",
       "      <td>True</td>\n",
       "      <td>True</td>\n",
       "      <td>True</td>\n",
       "      <td>False</td>\n",
       "      <td>False</td>\n",
       "      <td>True</td>\n",
       "      <td>1985</td>\n",
       "    </tr>\n",
       "    <tr>\n",
       "      <th>25</th>\n",
       "      <td>LCBS12Dec13</td>\n",
       "      <td>True</td>\n",
       "      <td>Musical</td>\n",
       "      <td>False</td>\n",
       "      <td>True</td>\n",
       "      <td>True</td>\n",
       "      <td>False</td>\n",
       "      <td>False</td>\n",
       "      <td>True</td>\n",
       "      <td>False</td>\n",
       "      <td>False</td>\n",
       "      <td>1901</td>\n",
       "    </tr>\n",
       "    <tr>\n",
       "      <th>12</th>\n",
       "      <td>LC18JerseyBoysFeb13</td>\n",
       "      <td>True</td>\n",
       "      <td>Musical</td>\n",
       "      <td>True</td>\n",
       "      <td>True</td>\n",
       "      <td>True</td>\n",
       "      <td>False</td>\n",
       "      <td>False</td>\n",
       "      <td>False</td>\n",
       "      <td>False</td>\n",
       "      <td>False</td>\n",
       "      <td>1891</td>\n",
       "    </tr>\n",
       "    <tr>\n",
       "      <th>2</th>\n",
       "      <td>LC16BeautyandtheBeastMay05</td>\n",
       "      <td>True</td>\n",
       "      <td>Musical</td>\n",
       "      <td>True</td>\n",
       "      <td>True</td>\n",
       "      <td>True</td>\n",
       "      <td>False</td>\n",
       "      <td>False</td>\n",
       "      <td>True</td>\n",
       "      <td>False</td>\n",
       "      <td>False</td>\n",
       "      <td>1890</td>\n",
       "    </tr>\n",
       "    <tr>\n",
       "      <th>9</th>\n",
       "      <td>LC18BlackViolinSep22</td>\n",
       "      <td>True</td>\n",
       "      <td>Music</td>\n",
       "      <td>False</td>\n",
       "      <td>True</td>\n",
       "      <td>False</td>\n",
       "      <td>False</td>\n",
       "      <td>False</td>\n",
       "      <td>True</td>\n",
       "      <td>True</td>\n",
       "      <td>True</td>\n",
       "      <td>1862</td>\n",
       "    </tr>\n",
       "    <tr>\n",
       "      <th>5</th>\n",
       "      <td>LC17CinderellaNov29</td>\n",
       "      <td>True</td>\n",
       "      <td>Musical</td>\n",
       "      <td>True</td>\n",
       "      <td>True</td>\n",
       "      <td>True</td>\n",
       "      <td>False</td>\n",
       "      <td>False</td>\n",
       "      <td>True</td>\n",
       "      <td>False</td>\n",
       "      <td>False</td>\n",
       "      <td>1860</td>\n",
       "    </tr>\n",
       "    <tr>\n",
       "      <th>28</th>\n",
       "      <td>LCSE24Apr10</td>\n",
       "      <td>True</td>\n",
       "      <td>Speaker</td>\n",
       "      <td>False</td>\n",
       "      <td>False</td>\n",
       "      <td>True</td>\n",
       "      <td>True</td>\n",
       "      <td>True</td>\n",
       "      <td>False</td>\n",
       "      <td>False</td>\n",
       "      <td>True</td>\n",
       "      <td>1853</td>\n",
       "    </tr>\n",
       "    <tr>\n",
       "      <th>4</th>\n",
       "      <td>LC16LyleLovettJohnHiattOct23</td>\n",
       "      <td>True</td>\n",
       "      <td>Music</td>\n",
       "      <td>False</td>\n",
       "      <td>True</td>\n",
       "      <td>True</td>\n",
       "      <td>False</td>\n",
       "      <td>False</td>\n",
       "      <td>False</td>\n",
       "      <td>True</td>\n",
       "      <td>True</td>\n",
       "      <td>1841</td>\n",
       "    </tr>\n",
       "    <tr>\n",
       "      <th>21</th>\n",
       "      <td>LC19SPAMALOTNov04</td>\n",
       "      <td>False</td>\n",
       "      <td>Musical</td>\n",
       "      <td>False</td>\n",
       "      <td>True</td>\n",
       "      <td>True</td>\n",
       "      <td>False</td>\n",
       "      <td>True</td>\n",
       "      <td>False</td>\n",
       "      <td>False</td>\n",
       "      <td>False</td>\n",
       "      <td>1770</td>\n",
       "    </tr>\n",
       "    <tr>\n",
       "      <th>24</th>\n",
       "      <td>LC20JerseyBoysNov02</td>\n",
       "      <td>True</td>\n",
       "      <td>Musical</td>\n",
       "      <td>True</td>\n",
       "      <td>True</td>\n",
       "      <td>True</td>\n",
       "      <td>False</td>\n",
       "      <td>False</td>\n",
       "      <td>False</td>\n",
       "      <td>False</td>\n",
       "      <td>False</td>\n",
       "      <td>1708</td>\n",
       "    </tr>\n",
       "    <tr>\n",
       "      <th>17</th>\n",
       "      <td>LC19ELFNov07</td>\n",
       "      <td>False</td>\n",
       "      <td>Musical</td>\n",
       "      <td>True</td>\n",
       "      <td>True</td>\n",
       "      <td>True</td>\n",
       "      <td>False</td>\n",
       "      <td>True</td>\n",
       "      <td>True</td>\n",
       "      <td>False</td>\n",
       "      <td>False</td>\n",
       "      <td>1630</td>\n",
       "    </tr>\n",
       "    <tr>\n",
       "      <th>6</th>\n",
       "      <td>LC17KristinChenowethMay08</td>\n",
       "      <td>False</td>\n",
       "      <td>Music</td>\n",
       "      <td>False</td>\n",
       "      <td>False</td>\n",
       "      <td>True</td>\n",
       "      <td>False</td>\n",
       "      <td>False</td>\n",
       "      <td>False</td>\n",
       "      <td>False</td>\n",
       "      <td>True</td>\n",
       "      <td>1607</td>\n",
       "    </tr>\n",
       "    <tr>\n",
       "      <th>15</th>\n",
       "      <td>LC18WizardofOzJan31</td>\n",
       "      <td>False</td>\n",
       "      <td>Musical</td>\n",
       "      <td>True</td>\n",
       "      <td>True</td>\n",
       "      <td>True</td>\n",
       "      <td>False</td>\n",
       "      <td>False</td>\n",
       "      <td>True</td>\n",
       "      <td>True</td>\n",
       "      <td>False</td>\n",
       "      <td>1578</td>\n",
       "    </tr>\n",
       "    <tr>\n",
       "      <th>14</th>\n",
       "      <td>LC18SoundofMusicFeb20</td>\n",
       "      <td>False</td>\n",
       "      <td>Musical</td>\n",
       "      <td>True</td>\n",
       "      <td>True</td>\n",
       "      <td>True</td>\n",
       "      <td>False</td>\n",
       "      <td>False</td>\n",
       "      <td>True</td>\n",
       "      <td>False</td>\n",
       "      <td>False</td>\n",
       "      <td>1576</td>\n",
       "    </tr>\n",
       "    <tr>\n",
       "      <th>0</th>\n",
       "      <td>LC15CanadianBrass1212</td>\n",
       "      <td>True</td>\n",
       "      <td>Music</td>\n",
       "      <td>False</td>\n",
       "      <td>True</td>\n",
       "      <td>False</td>\n",
       "      <td>False</td>\n",
       "      <td>False</td>\n",
       "      <td>True</td>\n",
       "      <td>True</td>\n",
       "      <td>False</td>\n",
       "      <td>1569</td>\n",
       "    </tr>\n",
       "    <tr>\n",
       "      <th>27</th>\n",
       "      <td>LCSE09Nov12</td>\n",
       "      <td>True</td>\n",
       "      <td>Speaker</td>\n",
       "      <td>False</td>\n",
       "      <td>False</td>\n",
       "      <td>True</td>\n",
       "      <td>True</td>\n",
       "      <td>True</td>\n",
       "      <td>False</td>\n",
       "      <td>False</td>\n",
       "      <td>True</td>\n",
       "      <td>1550</td>\n",
       "    </tr>\n",
       "    <tr>\n",
       "      <th>8</th>\n",
       "      <td>LC17RudolphDec09</td>\n",
       "      <td>True</td>\n",
       "      <td>Musical</td>\n",
       "      <td>True</td>\n",
       "      <td>True</td>\n",
       "      <td>True</td>\n",
       "      <td>False</td>\n",
       "      <td>True</td>\n",
       "      <td>True</td>\n",
       "      <td>False</td>\n",
       "      <td>False</td>\n",
       "      <td>1513</td>\n",
       "    </tr>\n",
       "    <tr>\n",
       "      <th>13</th>\n",
       "      <td>LC18LyleLovettJul27</td>\n",
       "      <td>True</td>\n",
       "      <td>Music</td>\n",
       "      <td>False</td>\n",
       "      <td>True</td>\n",
       "      <td>True</td>\n",
       "      <td>False</td>\n",
       "      <td>False</td>\n",
       "      <td>False</td>\n",
       "      <td>True</td>\n",
       "      <td>True</td>\n",
       "      <td>1470</td>\n",
       "    </tr>\n",
       "    <tr>\n",
       "      <th>10</th>\n",
       "      <td>LC18DirtyDancingOct20</td>\n",
       "      <td>False</td>\n",
       "      <td>Musical</td>\n",
       "      <td>False</td>\n",
       "      <td>True</td>\n",
       "      <td>True</td>\n",
       "      <td>False</td>\n",
       "      <td>True</td>\n",
       "      <td>False</td>\n",
       "      <td>True</td>\n",
       "      <td>False</td>\n",
       "      <td>1338</td>\n",
       "    </tr>\n",
       "    <tr>\n",
       "      <th>20</th>\n",
       "      <td>LC19SOMETHINGROTTENMay03</td>\n",
       "      <td>False</td>\n",
       "      <td>Musical</td>\n",
       "      <td>False</td>\n",
       "      <td>True</td>\n",
       "      <td>True</td>\n",
       "      <td>False</td>\n",
       "      <td>True</td>\n",
       "      <td>False</td>\n",
       "      <td>False</td>\n",
       "      <td>False</td>\n",
       "      <td>1316</td>\n",
       "    </tr>\n",
       "    <tr>\n",
       "      <th>1</th>\n",
       "      <td>LC15KODO0224</td>\n",
       "      <td>True</td>\n",
       "      <td>Music</td>\n",
       "      <td>False</td>\n",
       "      <td>True</td>\n",
       "      <td>False</td>\n",
       "      <td>True</td>\n",
       "      <td>False</td>\n",
       "      <td>True</td>\n",
       "      <td>True</td>\n",
       "      <td>False</td>\n",
       "      <td>1314</td>\n",
       "    </tr>\n",
       "    <tr>\n",
       "      <th>11</th>\n",
       "      <td>LC18GarrisonKeillorNov05</td>\n",
       "      <td>True</td>\n",
       "      <td>Speaker</td>\n",
       "      <td>False</td>\n",
       "      <td>False</td>\n",
       "      <td>True</td>\n",
       "      <td>True</td>\n",
       "      <td>True</td>\n",
       "      <td>False</td>\n",
       "      <td>False</td>\n",
       "      <td>True</td>\n",
       "      <td>1292</td>\n",
       "    </tr>\n",
       "    <tr>\n",
       "      <th>7</th>\n",
       "      <td>LC17PIPPINFeb02</td>\n",
       "      <td>False</td>\n",
       "      <td>Musical</td>\n",
       "      <td>False</td>\n",
       "      <td>True</td>\n",
       "      <td>True</td>\n",
       "      <td>False</td>\n",
       "      <td>False</td>\n",
       "      <td>False</td>\n",
       "      <td>False</td>\n",
       "      <td>False</td>\n",
       "      <td>1266</td>\n",
       "    </tr>\n",
       "    <tr>\n",
       "      <th>22</th>\n",
       "      <td>LC20BlackViolinOct19</td>\n",
       "      <td>True</td>\n",
       "      <td>Music</td>\n",
       "      <td>False</td>\n",
       "      <td>True</td>\n",
       "      <td>False</td>\n",
       "      <td>False</td>\n",
       "      <td>False</td>\n",
       "      <td>True</td>\n",
       "      <td>True</td>\n",
       "      <td>True</td>\n",
       "      <td>1251</td>\n",
       "    </tr>\n",
       "    <tr>\n",
       "      <th>23</th>\n",
       "      <td>LC20DavidSedarisOct24</td>\n",
       "      <td>True</td>\n",
       "      <td>Speaker</td>\n",
       "      <td>False</td>\n",
       "      <td>False</td>\n",
       "      <td>True</td>\n",
       "      <td>True</td>\n",
       "      <td>True</td>\n",
       "      <td>False</td>\n",
       "      <td>False</td>\n",
       "      <td>True</td>\n",
       "      <td>1243</td>\n",
       "    </tr>\n",
       "    <tr>\n",
       "      <th>16</th>\n",
       "      <td>LC19CanadianBrassChristmasDec09</td>\n",
       "      <td>True</td>\n",
       "      <td>Music</td>\n",
       "      <td>False</td>\n",
       "      <td>True</td>\n",
       "      <td>False</td>\n",
       "      <td>False</td>\n",
       "      <td>False</td>\n",
       "      <td>True</td>\n",
       "      <td>True</td>\n",
       "      <td>False</td>\n",
       "      <td>1111</td>\n",
       "    </tr>\n",
       "    <tr>\n",
       "      <th>3</th>\n",
       "      <td>LC16BlackViolinOct01</td>\n",
       "      <td>True</td>\n",
       "      <td>Music</td>\n",
       "      <td>False</td>\n",
       "      <td>True</td>\n",
       "      <td>False</td>\n",
       "      <td>False</td>\n",
       "      <td>False</td>\n",
       "      <td>True</td>\n",
       "      <td>True</td>\n",
       "      <td>True</td>\n",
       "      <td>1082</td>\n",
       "    </tr>\n",
       "    <tr>\n",
       "      <th>18</th>\n",
       "      <td>LC19FINDINGNEVERLANDApr21</td>\n",
       "      <td>False</td>\n",
       "      <td>Musical</td>\n",
       "      <td>False</td>\n",
       "      <td>True</td>\n",
       "      <td>True</td>\n",
       "      <td>False</td>\n",
       "      <td>False</td>\n",
       "      <td>True</td>\n",
       "      <td>False</td>\n",
       "      <td>False</td>\n",
       "      <td>880</td>\n",
       "    </tr>\n",
       "    <tr>\n",
       "      <th>19</th>\n",
       "      <td>LC19KODOFeb19</td>\n",
       "      <td>True</td>\n",
       "      <td>Music</td>\n",
       "      <td>False</td>\n",
       "      <td>True</td>\n",
       "      <td>False</td>\n",
       "      <td>True</td>\n",
       "      <td>False</td>\n",
       "      <td>True</td>\n",
       "      <td>True</td>\n",
       "      <td>False</td>\n",
       "      <td>691</td>\n",
       "    </tr>\n",
       "  </tbody>\n",
       "</table>\n",
       "</div>"
      ],
      "text/plain": [
       "                      performanceID  Repeat Performance.Type  Classic  Group  \\\n",
       "26                      LCSE09Mar11    True          Speaker    False  False   \n",
       "25                      LCBS12Dec13    True          Musical    False   True   \n",
       "12              LC18JerseyBoysFeb13    True          Musical     True   True   \n",
       "2        LC16BeautyandtheBeastMay05    True          Musical     True   True   \n",
       "9              LC18BlackViolinSep22    True            Music    False   True   \n",
       "5               LC17CinderellaNov29    True          Musical     True   True   \n",
       "28                      LCSE24Apr10    True          Speaker    False  False   \n",
       "4      LC16LyleLovettJohnHiattOct23    True            Music    False   True   \n",
       "21                LC19SPAMALOTNov04   False          Musical    False   True   \n",
       "24              LC20JerseyBoysNov02    True          Musical     True   True   \n",
       "17                     LC19ELFNov07   False          Musical     True   True   \n",
       "6         LC17KristinChenowethMay08   False            Music    False  False   \n",
       "15              LC18WizardofOzJan31   False          Musical     True   True   \n",
       "14            LC18SoundofMusicFeb20   False          Musical     True   True   \n",
       "0             LC15CanadianBrass1212    True            Music    False   True   \n",
       "27                      LCSE09Nov12    True          Speaker    False  False   \n",
       "8                  LC17RudolphDec09    True          Musical     True   True   \n",
       "13              LC18LyleLovettJul27    True            Music    False   True   \n",
       "10            LC18DirtyDancingOct20   False          Musical    False   True   \n",
       "20         LC19SOMETHINGROTTENMay03   False          Musical    False   True   \n",
       "1                      LC15KODO0224    True            Music    False   True   \n",
       "11         LC18GarrisonKeillorNov05    True          Speaker    False  False   \n",
       "7                   LC17PIPPINFeb02   False          Musical    False   True   \n",
       "22             LC20BlackViolinOct19    True            Music    False   True   \n",
       "23            LC20DavidSedarisOct24    True          Speaker    False  False   \n",
       "16  LC19CanadianBrassChristmasDec09    True            Music    False   True   \n",
       "3              LC16BlackViolinOct01    True            Music    False   True   \n",
       "18        LC19FINDINGNEVERLANDApr21   False          Musical    False   True   \n",
       "19                    LC19KODOFeb19    True            Music    False   True   \n",
       "\n",
       "    Vocal  Educational  Comedy   Kids  Cultural  Celebrity  TicketCount  \n",
       "26   True         True    True  False     False       True         1985  \n",
       "25   True        False   False   True     False      False         1901  \n",
       "12   True        False   False  False     False      False         1891  \n",
       "2    True        False   False   True     False      False         1890  \n",
       "9   False        False   False   True      True       True         1862  \n",
       "5    True        False   False   True     False      False         1860  \n",
       "28   True         True    True  False     False       True         1853  \n",
       "4    True        False   False  False      True       True         1841  \n",
       "21   True        False    True  False     False      False         1770  \n",
       "24   True        False   False  False     False      False         1708  \n",
       "17   True        False    True   True     False      False         1630  \n",
       "6    True        False   False  False     False       True         1607  \n",
       "15   True        False   False   True      True      False         1578  \n",
       "14   True        False   False   True     False      False         1576  \n",
       "0   False        False   False   True      True      False         1569  \n",
       "27   True         True    True  False     False       True         1550  \n",
       "8    True        False    True   True     False      False         1513  \n",
       "13   True        False   False  False      True       True         1470  \n",
       "10   True        False    True  False      True      False         1338  \n",
       "20   True        False    True  False     False      False         1316  \n",
       "1   False         True   False   True      True      False         1314  \n",
       "11   True         True    True  False     False       True         1292  \n",
       "7    True        False   False  False     False      False         1266  \n",
       "22  False        False   False   True      True       True         1251  \n",
       "23   True         True    True  False     False       True         1243  \n",
       "16  False        False   False   True      True      False         1111  \n",
       "3   False        False   False   True      True       True         1082  \n",
       "18   True        False   False   True     False      False          880  \n",
       "19  False         True   False   True      True      False          691  "
      ]
     },
     "execution_count": 19,
     "metadata": {},
     "output_type": "execute_result"
    }
   ],
   "source": [
    "performance_tickets = tickets_shows_sub.groupby([\"performanceID\",\"Repeat\",\"Performance.Type\",\"Classic\",\"Group\",\"Vocal\",\"Educational\",\"Comedy\",\"Kids\",\"Cultural\",\"Celebrity\"], as_index=False)[\"TicketCount\"].sum().sort_values(by=[\"TicketCount\"], ascending=False)\n",
    "performance_tickets"
   ]
  },
  {
   "cell_type": "markdown",
   "id": "1ca78111",
   "metadata": {
    "id": "6Clxh34irQWZ",
    "papermill": {
     "duration": 0.015387,
     "end_time": "2022-10-13T02:56:01.404970",
     "exception": false,
     "start_time": "2022-10-13T02:56:01.389583",
     "status": "completed"
    },
    "tags": []
   },
   "source": [
    "The top ten most popular shows were:"
   ]
  },
  {
   "cell_type": "code",
   "execution_count": 20,
   "id": "04fe82dc",
   "metadata": {
    "execution": {
     "iopub.execute_input": "2022-10-13T02:56:01.438585Z",
     "iopub.status.busy": "2022-10-13T02:56:01.438113Z",
     "iopub.status.idle": "2022-10-13T02:56:01.457499Z",
     "shell.execute_reply": "2022-10-13T02:56:01.456103Z"
    },
    "id": "2tA-mLkOrJLc",
    "outputId": "a51c9b49-6c99-41d7-8f00-eb2ae07ffa3e",
    "papermill": {
     "duration": 0.038812,
     "end_time": "2022-10-13T02:56:01.459651",
     "exception": false,
     "start_time": "2022-10-13T02:56:01.420839",
     "status": "completed"
    },
    "tags": []
   },
   "outputs": [
    {
     "data": {
      "text/html": [
       "<div>\n",
       "<style scoped>\n",
       "    .dataframe tbody tr th:only-of-type {\n",
       "        vertical-align: middle;\n",
       "    }\n",
       "\n",
       "    .dataframe tbody tr th {\n",
       "        vertical-align: top;\n",
       "    }\n",
       "\n",
       "    .dataframe thead th {\n",
       "        text-align: right;\n",
       "    }\n",
       "</style>\n",
       "<table border=\"1\" class=\"dataframe\">\n",
       "  <thead>\n",
       "    <tr style=\"text-align: right;\">\n",
       "      <th></th>\n",
       "      <th>performanceID</th>\n",
       "      <th>Repeat</th>\n",
       "      <th>Performance.Type</th>\n",
       "      <th>Classic</th>\n",
       "      <th>Group</th>\n",
       "      <th>Vocal</th>\n",
       "      <th>Educational</th>\n",
       "      <th>Comedy</th>\n",
       "      <th>Kids</th>\n",
       "      <th>Cultural</th>\n",
       "      <th>Celebrity</th>\n",
       "      <th>TicketCount</th>\n",
       "    </tr>\n",
       "  </thead>\n",
       "  <tbody>\n",
       "    <tr>\n",
       "      <th>26</th>\n",
       "      <td>LCSE09Mar11</td>\n",
       "      <td>True</td>\n",
       "      <td>Speaker</td>\n",
       "      <td>False</td>\n",
       "      <td>False</td>\n",
       "      <td>True</td>\n",
       "      <td>True</td>\n",
       "      <td>True</td>\n",
       "      <td>False</td>\n",
       "      <td>False</td>\n",
       "      <td>True</td>\n",
       "      <td>1985</td>\n",
       "    </tr>\n",
       "    <tr>\n",
       "      <th>25</th>\n",
       "      <td>LCBS12Dec13</td>\n",
       "      <td>True</td>\n",
       "      <td>Musical</td>\n",
       "      <td>False</td>\n",
       "      <td>True</td>\n",
       "      <td>True</td>\n",
       "      <td>False</td>\n",
       "      <td>False</td>\n",
       "      <td>True</td>\n",
       "      <td>False</td>\n",
       "      <td>False</td>\n",
       "      <td>1901</td>\n",
       "    </tr>\n",
       "    <tr>\n",
       "      <th>12</th>\n",
       "      <td>LC18JerseyBoysFeb13</td>\n",
       "      <td>True</td>\n",
       "      <td>Musical</td>\n",
       "      <td>True</td>\n",
       "      <td>True</td>\n",
       "      <td>True</td>\n",
       "      <td>False</td>\n",
       "      <td>False</td>\n",
       "      <td>False</td>\n",
       "      <td>False</td>\n",
       "      <td>False</td>\n",
       "      <td>1891</td>\n",
       "    </tr>\n",
       "    <tr>\n",
       "      <th>2</th>\n",
       "      <td>LC16BeautyandtheBeastMay05</td>\n",
       "      <td>True</td>\n",
       "      <td>Musical</td>\n",
       "      <td>True</td>\n",
       "      <td>True</td>\n",
       "      <td>True</td>\n",
       "      <td>False</td>\n",
       "      <td>False</td>\n",
       "      <td>True</td>\n",
       "      <td>False</td>\n",
       "      <td>False</td>\n",
       "      <td>1890</td>\n",
       "    </tr>\n",
       "    <tr>\n",
       "      <th>9</th>\n",
       "      <td>LC18BlackViolinSep22</td>\n",
       "      <td>True</td>\n",
       "      <td>Music</td>\n",
       "      <td>False</td>\n",
       "      <td>True</td>\n",
       "      <td>False</td>\n",
       "      <td>False</td>\n",
       "      <td>False</td>\n",
       "      <td>True</td>\n",
       "      <td>True</td>\n",
       "      <td>True</td>\n",
       "      <td>1862</td>\n",
       "    </tr>\n",
       "    <tr>\n",
       "      <th>5</th>\n",
       "      <td>LC17CinderellaNov29</td>\n",
       "      <td>True</td>\n",
       "      <td>Musical</td>\n",
       "      <td>True</td>\n",
       "      <td>True</td>\n",
       "      <td>True</td>\n",
       "      <td>False</td>\n",
       "      <td>False</td>\n",
       "      <td>True</td>\n",
       "      <td>False</td>\n",
       "      <td>False</td>\n",
       "      <td>1860</td>\n",
       "    </tr>\n",
       "    <tr>\n",
       "      <th>28</th>\n",
       "      <td>LCSE24Apr10</td>\n",
       "      <td>True</td>\n",
       "      <td>Speaker</td>\n",
       "      <td>False</td>\n",
       "      <td>False</td>\n",
       "      <td>True</td>\n",
       "      <td>True</td>\n",
       "      <td>True</td>\n",
       "      <td>False</td>\n",
       "      <td>False</td>\n",
       "      <td>True</td>\n",
       "      <td>1853</td>\n",
       "    </tr>\n",
       "    <tr>\n",
       "      <th>4</th>\n",
       "      <td>LC16LyleLovettJohnHiattOct23</td>\n",
       "      <td>True</td>\n",
       "      <td>Music</td>\n",
       "      <td>False</td>\n",
       "      <td>True</td>\n",
       "      <td>True</td>\n",
       "      <td>False</td>\n",
       "      <td>False</td>\n",
       "      <td>False</td>\n",
       "      <td>True</td>\n",
       "      <td>True</td>\n",
       "      <td>1841</td>\n",
       "    </tr>\n",
       "    <tr>\n",
       "      <th>21</th>\n",
       "      <td>LC19SPAMALOTNov04</td>\n",
       "      <td>False</td>\n",
       "      <td>Musical</td>\n",
       "      <td>False</td>\n",
       "      <td>True</td>\n",
       "      <td>True</td>\n",
       "      <td>False</td>\n",
       "      <td>True</td>\n",
       "      <td>False</td>\n",
       "      <td>False</td>\n",
       "      <td>False</td>\n",
       "      <td>1770</td>\n",
       "    </tr>\n",
       "    <tr>\n",
       "      <th>24</th>\n",
       "      <td>LC20JerseyBoysNov02</td>\n",
       "      <td>True</td>\n",
       "      <td>Musical</td>\n",
       "      <td>True</td>\n",
       "      <td>True</td>\n",
       "      <td>True</td>\n",
       "      <td>False</td>\n",
       "      <td>False</td>\n",
       "      <td>False</td>\n",
       "      <td>False</td>\n",
       "      <td>False</td>\n",
       "      <td>1708</td>\n",
       "    </tr>\n",
       "  </tbody>\n",
       "</table>\n",
       "</div>"
      ],
      "text/plain": [
       "                   performanceID  Repeat Performance.Type  Classic  Group  \\\n",
       "26                   LCSE09Mar11    True          Speaker    False  False   \n",
       "25                   LCBS12Dec13    True          Musical    False   True   \n",
       "12           LC18JerseyBoysFeb13    True          Musical     True   True   \n",
       "2     LC16BeautyandtheBeastMay05    True          Musical     True   True   \n",
       "9           LC18BlackViolinSep22    True            Music    False   True   \n",
       "5            LC17CinderellaNov29    True          Musical     True   True   \n",
       "28                   LCSE24Apr10    True          Speaker    False  False   \n",
       "4   LC16LyleLovettJohnHiattOct23    True            Music    False   True   \n",
       "21             LC19SPAMALOTNov04   False          Musical    False   True   \n",
       "24           LC20JerseyBoysNov02    True          Musical     True   True   \n",
       "\n",
       "    Vocal  Educational  Comedy   Kids  Cultural  Celebrity  TicketCount  \n",
       "26   True         True    True  False     False       True         1985  \n",
       "25   True        False   False   True     False      False         1901  \n",
       "12   True        False   False  False     False      False         1891  \n",
       "2    True        False   False   True     False      False         1890  \n",
       "9   False        False   False   True      True       True         1862  \n",
       "5    True        False   False   True     False      False         1860  \n",
       "28   True         True    True  False     False       True         1853  \n",
       "4    True        False   False  False      True       True         1841  \n",
       "21   True        False    True  False     False      False         1770  \n",
       "24   True        False   False  False     False      False         1708  "
      ]
     },
     "execution_count": 20,
     "metadata": {},
     "output_type": "execute_result"
    }
   ],
   "source": [
    "performance_tickets.head(10)"
   ]
  },
  {
   "cell_type": "markdown",
   "id": "5ccf5419",
   "metadata": {
    "id": "N0_vUGXbfOvq",
    "papermill": {
     "duration": 0.015893,
     "end_time": "2022-10-13T02:56:01.491742",
     "exception": false,
     "start_time": "2022-10-13T02:56:01.475849",
     "status": "completed"
    },
    "tags": []
   },
   "source": [
    "The number of tickets bought for all shows that were either repeated from the previous year (True) or not (False)."
   ]
  },
  {
   "cell_type": "code",
   "execution_count": 21,
   "id": "f18f853d",
   "metadata": {
    "execution": {
     "iopub.execute_input": "2022-10-13T02:56:01.526587Z",
     "iopub.status.busy": "2022-10-13T02:56:01.526130Z",
     "iopub.status.idle": "2022-10-13T02:56:01.540524Z",
     "shell.execute_reply": "2022-10-13T02:56:01.539454Z"
    },
    "id": "5xX1iVHArUs1",
    "outputId": "67c00218-47ee-462f-831f-10531925e334",
    "papermill": {
     "duration": 0.035035,
     "end_time": "2022-10-13T02:56:01.542860",
     "exception": false,
     "start_time": "2022-10-13T02:56:01.507825",
     "status": "completed"
    },
    "tags": []
   },
   "outputs": [
    {
     "data": {
      "text/html": [
       "<div>\n",
       "<style scoped>\n",
       "    .dataframe tbody tr th:only-of-type {\n",
       "        vertical-align: middle;\n",
       "    }\n",
       "\n",
       "    .dataframe tbody tr th {\n",
       "        vertical-align: top;\n",
       "    }\n",
       "\n",
       "    .dataframe thead th {\n",
       "        text-align: right;\n",
       "    }\n",
       "</style>\n",
       "<table border=\"1\" class=\"dataframe\">\n",
       "  <thead>\n",
       "    <tr style=\"text-align: right;\">\n",
       "      <th></th>\n",
       "      <th>Repeat</th>\n",
       "      <th>TicketCount</th>\n",
       "    </tr>\n",
       "  </thead>\n",
       "  <tbody>\n",
       "    <tr>\n",
       "      <th>0</th>\n",
       "      <td>False</td>\n",
       "      <td>12961</td>\n",
       "    </tr>\n",
       "    <tr>\n",
       "      <th>1</th>\n",
       "      <td>True</td>\n",
       "      <td>30877</td>\n",
       "    </tr>\n",
       "  </tbody>\n",
       "</table>\n",
       "</div>"
      ],
      "text/plain": [
       "   Repeat  TicketCount\n",
       "0   False        12961\n",
       "1    True        30877"
      ]
     },
     "execution_count": 21,
     "metadata": {},
     "output_type": "execute_result"
    }
   ],
   "source": [
    "repeat = performance_tickets[[\"Repeat\",\"TicketCount\"]]\n",
    "repeat_chart = repeat.groupby([\"Repeat\"], as_index=False)[\"TicketCount\"].sum()\n",
    "repeat_chart"
   ]
  },
  {
   "cell_type": "code",
   "execution_count": 22,
   "id": "213c9625",
   "metadata": {
    "execution": {
     "iopub.execute_input": "2022-10-13T02:56:01.577488Z",
     "iopub.status.busy": "2022-10-13T02:56:01.576787Z",
     "iopub.status.idle": "2022-10-13T02:56:01.833918Z",
     "shell.execute_reply": "2022-10-13T02:56:01.833130Z"
    },
    "id": "zsjFxw8zuOcS",
    "outputId": "d4980c52-fe9e-47a9-c6f1-cc091f4fba09",
    "papermill": {
     "duration": 0.276953,
     "end_time": "2022-10-13T02:56:01.836152",
     "exception": false,
     "start_time": "2022-10-13T02:56:01.559199",
     "status": "completed"
    },
    "tags": []
   },
   "outputs": [
    {
     "data": {
      "text/plain": [
       "<AxesSubplot:xlabel='Repeat'>"
      ]
     },
     "execution_count": 22,
     "metadata": {},
     "output_type": "execute_result"
    },
    {
     "data": {
      "image/png": "[encoded data removed]",
      "text/plain": [
       "<Figure size 576x432 with 1 Axes>"
      ]
     },
     "metadata": {
      "needs_background": "light"
     },
     "output_type": "display_data"
    }
   ],
   "source": [
    "repeat_chart.plot(x=\"Repeat\", y=\"TicketCount\", kind='bar', figsize=(8,6))"
   ]
  },
  {
   "cell_type": "markdown",
   "id": "57720558",
   "metadata": {
    "id": "WsuUQv0lUAkV",
    "papermill": {
     "duration": 0.016575,
     "end_time": "2022-10-13T02:56:01.869668",
     "exception": false,
     "start_time": "2022-10-13T02:56:01.853093",
     "status": "completed"
    },
    "tags": []
   },
   "source": [
    "We found the total number of tickets bought for each category."
   ]
  },
  {
   "cell_type": "code",
   "execution_count": 23,
   "id": "2776493c",
   "metadata": {
    "execution": {
     "iopub.execute_input": "2022-10-13T02:56:01.906039Z",
     "iopub.status.busy": "2022-10-13T02:56:01.905205Z",
     "iopub.status.idle": "2022-10-13T02:56:01.956321Z",
     "shell.execute_reply": "2022-10-13T02:56:01.955271Z"
    },
    "id": "vPIgyN9AwgPt",
    "outputId": "7f96592a-b142-4f9c-f366-f9ffd3f3e0ec",
    "papermill": {
     "duration": 0.072392,
     "end_time": "2022-10-13T02:56:01.958906",
     "exception": false,
     "start_time": "2022-10-13T02:56:01.886514",
     "status": "completed"
    },
    "tags": []
   },
   "outputs": [
    {
     "data": {
      "text/html": [
       "<div>\n",
       "<style scoped>\n",
       "    .dataframe tbody tr th:only-of-type {\n",
       "        vertical-align: middle;\n",
       "    }\n",
       "\n",
       "    .dataframe tbody tr th {\n",
       "        vertical-align: top;\n",
       "    }\n",
       "\n",
       "    .dataframe thead th {\n",
       "        text-align: right;\n",
       "    }\n",
       "</style>\n",
       "<table border=\"1\" class=\"dataframe\">\n",
       "  <thead>\n",
       "    <tr style=\"text-align: right;\">\n",
       "      <th></th>\n",
       "      <th>TicketCount</th>\n",
       "      <th>Classic</th>\n",
       "      <th>Group</th>\n",
       "      <th>Vocal</th>\n",
       "      <th>Educational</th>\n",
       "      <th>Comedy</th>\n",
       "      <th>Kids</th>\n",
       "      <th>Cultural</th>\n",
       "    </tr>\n",
       "    <tr>\n",
       "      <th>Celebrity</th>\n",
       "      <th></th>\n",
       "      <th></th>\n",
       "      <th></th>\n",
       "      <th></th>\n",
       "      <th></th>\n",
       "      <th></th>\n",
       "      <th></th>\n",
       "      <th></th>\n",
       "    </tr>\n",
       "  </thead>\n",
       "  <tbody>\n",
       "    <tr>\n",
       "      <th>False</th>\n",
       "      <td>33375</td>\n",
       "      <td>6469</td>\n",
       "      <td>12603</td>\n",
       "      <td>10828</td>\n",
       "      <td>731</td>\n",
       "      <td>4273</td>\n",
       "      <td>6676</td>\n",
       "      <td>3338</td>\n",
       "    </tr>\n",
       "    <tr>\n",
       "      <th>True</th>\n",
       "      <td>19036</td>\n",
       "      <td>0</td>\n",
       "      <td>3508</td>\n",
       "      <td>6215</td>\n",
       "      <td>3590</td>\n",
       "      <td>3283</td>\n",
       "      <td>1288</td>\n",
       "      <td>2913</td>\n",
       "    </tr>\n",
       "  </tbody>\n",
       "</table>\n",
       "</div>"
      ],
      "text/plain": [
       "           TicketCount  Classic  Group  Vocal  Educational  Comedy  Kids  \\\n",
       "Celebrity                                                                  \n",
       "False            33375     6469  12603  10828          731    4273  6676   \n",
       "True             19036        0   3508   6215         3590    3283  1288   \n",
       "\n",
       "           Cultural  \n",
       "Celebrity            \n",
       "False          3338  \n",
       "True           2913  "
      ]
     },
     "execution_count": 23,
     "metadata": {},
     "output_type": "execute_result"
    }
   ],
   "source": [
    "classic_tickets = tickets_shows_sub.groupby(tickets_shows_sub[\"Classic\"]).sum()\n",
    "group_tickets = tickets_shows_sub.groupby(tickets_shows_sub[\"Group\"]).sum()\n",
    "vocal_tickets = tickets_shows_sub.groupby(tickets_shows_sub[\"Vocal\"]).sum()\n",
    "educational_tickets = tickets_shows_sub.groupby(tickets_shows_sub[\"Educational\"]).sum()\n",
    "comedy_tickets = tickets_shows_sub.groupby(tickets_shows_sub[\"Comedy\"]).sum()\n",
    "kids_tickets = tickets_shows_sub.groupby(tickets_shows_sub[\"Kids\"]).sum()\n",
    "cultural_tickets = tickets_shows_sub.groupby(tickets_shows_sub[\"Cultural\"]).sum()\n",
    "celebrity_tickets = tickets_shows_sub.groupby(tickets_shows_sub[\"Celebrity\"]).sum()\n",
    "celebrity_tickets"
   ]
  },
  {
   "cell_type": "markdown",
   "id": "3978e850",
   "metadata": {
    "id": "rFpgw-S1UF58",
    "papermill": {
     "duration": 0.017067,
     "end_time": "2022-10-13T02:56:01.993415",
     "exception": false,
     "start_time": "2022-10-13T02:56:01.976348",
     "status": "completed"
    },
    "tags": []
   },
   "source": [
    "Then divided that by the total number of tickets bought for all shows, and multiplied by 100 to get a percentage."
   ]
  },
  {
   "cell_type": "code",
   "execution_count": 24,
   "id": "a96d4717",
   "metadata": {
    "execution": {
     "iopub.execute_input": "2022-10-13T02:56:02.030002Z",
     "iopub.status.busy": "2022-10-13T02:56:02.029026Z",
     "iopub.status.idle": "2022-10-13T02:56:02.042530Z",
     "shell.execute_reply": "2022-10-13T02:56:02.041539Z"
    },
    "id": "HarMYnPGPtG4",
    "outputId": "965bd0b5-ea77-4524-e8aa-268d2eb14849",
    "papermill": {
     "duration": 0.034354,
     "end_time": "2022-10-13T02:56:02.044819",
     "exception": false,
     "start_time": "2022-10-13T02:56:02.010465",
     "status": "completed"
    },
    "tags": []
   },
   "outputs": [
    {
     "data": {
      "text/plain": [
       "43.4235138464346"
      ]
     },
     "execution_count": 24,
     "metadata": {},
     "output_type": "execute_result"
    }
   ],
   "source": [
    "classic_percent = (classic_tickets.iloc[1,0])/(performance_tickets[\"TicketCount\"].sum())*100\n",
    "group_percent = (group_tickets.iloc[1,0])/(performance_tickets[\"TicketCount\"].sum())*100\n",
    "vocal_percent = (vocal_tickets.iloc[1,0])/(performance_tickets[\"TicketCount\"].sum())*100\n",
    "educational_percent = (educational_tickets.iloc[1,0])/(performance_tickets[\"TicketCount\"].sum())*100\n",
    "comedy_percent = (comedy_tickets.iloc[1,0])/(performance_tickets[\"TicketCount\"].sum())*100\n",
    "kids_percent = (kids_tickets.iloc[1,0])/(performance_tickets[\"TicketCount\"].sum())*100\n",
    "cultural_percent = (cultural_tickets.iloc[1,0])/(performance_tickets[\"TicketCount\"].sum())*100\n",
    "celebrity_percent = (celebrity_tickets.iloc[1,0])/(performance_tickets[\"TicketCount\"].sum())*100\n",
    "celebrity_percent"
   ]
  },
  {
   "cell_type": "markdown",
   "id": "aea48999",
   "metadata": {
    "id": "1tkIxarhUV_8",
    "papermill": {
     "duration": 0.017091,
     "end_time": "2022-10-13T02:56:02.079807",
     "exception": false,
     "start_time": "2022-10-13T02:56:02.062716",
     "status": "completed"
    },
    "tags": []
   },
   "source": [
    "Then created a DataFrame and plotted it to see the most popular categories."
   ]
  },
  {
   "cell_type": "code",
   "execution_count": 25,
   "id": "71731610",
   "metadata": {
    "execution": {
     "iopub.execute_input": "2022-10-13T02:56:02.117133Z",
     "iopub.status.busy": "2022-10-13T02:56:02.116037Z",
     "iopub.status.idle": "2022-10-13T02:56:02.127978Z",
     "shell.execute_reply": "2022-10-13T02:56:02.126955Z"
    },
    "id": "R3aOlM1BQWTo",
    "outputId": "86a1f19f-4a22-40db-af80-841473d43e2c",
    "papermill": {
     "duration": 0.032517,
     "end_time": "2022-10-13T02:56:02.130091",
     "exception": false,
     "start_time": "2022-10-13T02:56:02.097574",
     "status": "completed"
    },
    "tags": []
   },
   "outputs": [
    {
     "data": {
      "text/html": [
       "<div>\n",
       "<style scoped>\n",
       "    .dataframe tbody tr th:only-of-type {\n",
       "        vertical-align: middle;\n",
       "    }\n",
       "\n",
       "    .dataframe tbody tr th {\n",
       "        vertical-align: top;\n",
       "    }\n",
       "\n",
       "    .dataframe thead th {\n",
       "        text-align: right;\n",
       "    }\n",
       "</style>\n",
       "<table border=\"1\" class=\"dataframe\">\n",
       "  <thead>\n",
       "    <tr style=\"text-align: right;\">\n",
       "      <th></th>\n",
       "      <th>Category</th>\n",
       "      <th>Percent</th>\n",
       "    </tr>\n",
       "  </thead>\n",
       "  <tbody>\n",
       "    <tr>\n",
       "      <th>0</th>\n",
       "      <td>Classic</td>\n",
       "      <td>40.307496</td>\n",
       "    </tr>\n",
       "    <tr>\n",
       "      <th>1</th>\n",
       "      <td>Group</td>\n",
       "      <td>97.816962</td>\n",
       "    </tr>\n",
       "    <tr>\n",
       "      <th>2</th>\n",
       "      <td>Vocal</td>\n",
       "      <td>99.299694</td>\n",
       "    </tr>\n",
       "    <tr>\n",
       "      <th>3</th>\n",
       "      <td>Educational</td>\n",
       "      <td>24.282586</td>\n",
       "    </tr>\n",
       "    <tr>\n",
       "      <th>4</th>\n",
       "      <td>Comedy</td>\n",
       "      <td>44.450021</td>\n",
       "    </tr>\n",
       "    <tr>\n",
       "      <th>5</th>\n",
       "      <td>Kids</td>\n",
       "      <td>52.091793</td>\n",
       "    </tr>\n",
       "    <tr>\n",
       "      <th>6</th>\n",
       "      <td>Cultural</td>\n",
       "      <td>38.669647</td>\n",
       "    </tr>\n",
       "    <tr>\n",
       "      <th>7</th>\n",
       "      <td>Celebrity</td>\n",
       "      <td>43.423514</td>\n",
       "    </tr>\n",
       "  </tbody>\n",
       "</table>\n",
       "</div>"
      ],
      "text/plain": [
       "      Category    Percent\n",
       "0      Classic  40.307496\n",
       "1        Group  97.816962\n",
       "2        Vocal  99.299694\n",
       "3  Educational  24.282586\n",
       "4       Comedy  44.450021\n",
       "5         Kids  52.091793\n",
       "6     Cultural  38.669647\n",
       "7    Celebrity  43.423514"
      ]
     },
     "execution_count": 25,
     "metadata": {},
     "output_type": "execute_result"
    }
   ],
   "source": [
    "percent_type = pd.DataFrame({\"Category\":[\"Classic\",\"Group\",\"Vocal\",\"Educational\",\"Comedy\",\"Kids\",\"Cultural\",\"Celebrity\"],\n",
    "                             \"Percent\":[classic_percent, group_percent, vocal_percent, educational_percent, comedy_percent, kids_percent, cultural_percent, celebrity_percent]})\n",
    "percent_type"
   ]
  },
  {
   "cell_type": "code",
   "execution_count": 26,
   "id": "62d69120",
   "metadata": {
    "execution": {
     "iopub.execute_input": "2022-10-13T02:56:02.166339Z",
     "iopub.status.busy": "2022-10-13T02:56:02.165290Z",
     "iopub.status.idle": "2022-10-13T02:56:02.428355Z",
     "shell.execute_reply": "2022-10-13T02:56:02.427264Z"
    },
    "id": "6YJ35u0xRlVr",
    "outputId": "c13a6e6f-8574-43a8-d7a2-723389923c85",
    "papermill": {
     "duration": 0.283599,
     "end_time": "2022-10-13T02:56:02.430700",
     "exception": false,
     "start_time": "2022-10-13T02:56:02.147101",
     "status": "completed"
    },
    "tags": []
   },
   "outputs": [
    {
     "data": {
      "text/plain": [
       "<AxesSubplot:xlabel='Category'>"
      ]
     },
     "execution_count": 26,
     "metadata": {},
     "output_type": "execute_result"
    },
    {
     "data": {
      "image/png": "[encoded data removed]",
      "text/plain": [
       "<Figure size 864x576 with 1 Axes>"
      ]
     },
     "metadata": {
      "needs_background": "light"
     },
     "output_type": "display_data"
    }
   ],
   "source": [
    "percent_type.plot(x=\"Category\", y=\"Percent\", kind='bar', figsize=(12,8))"
   ]
  },
  {
   "cell_type": "markdown",
   "id": "073290c6",
   "metadata": {
    "id": "DwpFcOE3h4kA",
    "papermill": {
     "duration": 0.017319,
     "end_time": "2022-10-13T02:56:02.465564",
     "exception": false,
     "start_time": "2022-10-13T02:56:02.448245",
     "status": "completed"
    },
    "tags": []
   },
   "source": [
    "We found the total number of tickets bought for each performance type."
   ]
  },
  {
   "cell_type": "code",
   "execution_count": 27,
   "id": "94b268b9",
   "metadata": {
    "execution": {
     "iopub.execute_input": "2022-10-13T02:56:02.502806Z",
     "iopub.status.busy": "2022-10-13T02:56:02.502102Z",
     "iopub.status.idle": "2022-10-13T02:56:02.513493Z",
     "shell.execute_reply": "2022-10-13T02:56:02.512764Z"
    },
    "id": "czb8Z8t4fMWx",
    "outputId": "2b750da9-32bc-4cc6-ca8f-04b44933c42c",
    "papermill": {
     "duration": 0.032371,
     "end_time": "2022-10-13T02:56:02.515422",
     "exception": false,
     "start_time": "2022-10-13T02:56:02.483051",
     "status": "completed"
    },
    "tags": []
   },
   "outputs": [
    {
     "data": {
      "text/html": [
       "<div>\n",
       "<style scoped>\n",
       "    .dataframe tbody tr th:only-of-type {\n",
       "        vertical-align: middle;\n",
       "    }\n",
       "\n",
       "    .dataframe tbody tr th {\n",
       "        vertical-align: top;\n",
       "    }\n",
       "\n",
       "    .dataframe thead th {\n",
       "        text-align: right;\n",
       "    }\n",
       "</style>\n",
       "<table border=\"1\" class=\"dataframe\">\n",
       "  <thead>\n",
       "    <tr style=\"text-align: right;\">\n",
       "      <th></th>\n",
       "      <th>Performance.Type</th>\n",
       "      <th>TicketCount</th>\n",
       "    </tr>\n",
       "  </thead>\n",
       "  <tbody>\n",
       "    <tr>\n",
       "      <th>0</th>\n",
       "      <td>Music</td>\n",
       "      <td>13798</td>\n",
       "    </tr>\n",
       "    <tr>\n",
       "      <th>1</th>\n",
       "      <td>Musical</td>\n",
       "      <td>22117</td>\n",
       "    </tr>\n",
       "    <tr>\n",
       "      <th>2</th>\n",
       "      <td>Speaker</td>\n",
       "      <td>7923</td>\n",
       "    </tr>\n",
       "  </tbody>\n",
       "</table>\n",
       "</div>"
      ],
      "text/plain": [
       "  Performance.Type  TicketCount\n",
       "0            Music        13798\n",
       "1          Musical        22117\n",
       "2          Speaker         7923"
      ]
     },
     "execution_count": 27,
     "metadata": {},
     "output_type": "execute_result"
    }
   ],
   "source": [
    "perform_type = performance_tickets.groupby(\"Performance.Type\", as_index=False)[\"TicketCount\"].sum()\n",
    "perform_type"
   ]
  },
  {
   "cell_type": "markdown",
   "id": "e1449e21",
   "metadata": {
    "id": "4-CtIa52jfwE",
    "papermill": {
     "duration": 0.017126,
     "end_time": "2022-10-13T02:56:02.550438",
     "exception": false,
     "start_time": "2022-10-13T02:56:02.533312",
     "status": "completed"
    },
    "tags": []
   },
   "source": [
    "Then divided it by the number of tickets bought for all shows and multiplied that by 100 to get a percentage."
   ]
  },
  {
   "cell_type": "code",
   "execution_count": 28,
   "id": "85881c42",
   "metadata": {
    "execution": {
     "iopub.execute_input": "2022-10-13T02:56:02.587423Z",
     "iopub.status.busy": "2022-10-13T02:56:02.586626Z",
     "iopub.status.idle": "2022-10-13T02:56:02.593709Z",
     "shell.execute_reply": "2022-10-13T02:56:02.592678Z"
    },
    "id": "wCzDQHyriG4n",
    "papermill": {
     "duration": 0.028139,
     "end_time": "2022-10-13T02:56:02.596037",
     "exception": false,
     "start_time": "2022-10-13T02:56:02.567898",
     "status": "completed"
    },
    "tags": []
   },
   "outputs": [],
   "source": [
    "music=(perform_type.iloc[0,1])/(performance_tickets[\"TicketCount\"].sum())*100\n",
    "musical=(perform_type.iloc[1,1])/(performance_tickets[\"TicketCount\"].sum())*100\n",
    "speaker=(perform_type.iloc[2,1])/(performance_tickets[\"TicketCount\"].sum())*100"
   ]
  },
  {
   "cell_type": "markdown",
   "id": "b4e1a08c",
   "metadata": {
    "id": "39tx92Sdjomv",
    "papermill": {
     "duration": 0.017193,
     "end_time": "2022-10-13T02:56:02.630763",
     "exception": false,
     "start_time": "2022-10-13T02:56:02.613570",
     "status": "completed"
    },
    "tags": []
   },
   "source": [
    "Then made a DataFrame and plotted it to see what type of show makes up most of the ticket sales."
   ]
  },
  {
   "cell_type": "code",
   "execution_count": 29,
   "id": "52f054c2",
   "metadata": {
    "execution": {
     "iopub.execute_input": "2022-10-13T02:56:02.667789Z",
     "iopub.status.busy": "2022-10-13T02:56:02.667392Z",
     "iopub.status.idle": "2022-10-13T02:56:02.678605Z",
     "shell.execute_reply": "2022-10-13T02:56:02.677576Z"
    },
    "id": "0T1dxLG5izW5",
    "outputId": "c152f66e-5e3f-421f-9010-08ceeeee1b05",
    "papermill": {
     "duration": 0.032115,
     "end_time": "2022-10-13T02:56:02.680630",
     "exception": false,
     "start_time": "2022-10-13T02:56:02.648515",
     "status": "completed"
    },
    "tags": []
   },
   "outputs": [
    {
     "data": {
      "text/html": [
       "<div>\n",
       "<style scoped>\n",
       "    .dataframe tbody tr th:only-of-type {\n",
       "        vertical-align: middle;\n",
       "    }\n",
       "\n",
       "    .dataframe tbody tr th {\n",
       "        vertical-align: top;\n",
       "    }\n",
       "\n",
       "    .dataframe thead th {\n",
       "        text-align: right;\n",
       "    }\n",
       "</style>\n",
       "<table border=\"1\" class=\"dataframe\">\n",
       "  <thead>\n",
       "    <tr style=\"text-align: right;\">\n",
       "      <th></th>\n",
       "      <th>Type</th>\n",
       "      <th>Percent</th>\n",
       "    </tr>\n",
       "  </thead>\n",
       "  <tbody>\n",
       "    <tr>\n",
       "      <th>0</th>\n",
       "      <td>Music</td>\n",
       "      <td>31.474976</td>\n",
       "    </tr>\n",
       "    <tr>\n",
       "      <th>1</th>\n",
       "      <td>Musical</td>\n",
       "      <td>50.451663</td>\n",
       "    </tr>\n",
       "    <tr>\n",
       "      <th>2</th>\n",
       "      <td>Speaker</td>\n",
       "      <td>18.073361</td>\n",
       "    </tr>\n",
       "  </tbody>\n",
       "</table>\n",
       "</div>"
      ],
      "text/plain": [
       "      Type    Percent\n",
       "0    Music  31.474976\n",
       "1  Musical  50.451663\n",
       "2  Speaker  18.073361"
      ]
     },
     "execution_count": 29,
     "metadata": {},
     "output_type": "execute_result"
    }
   ],
   "source": [
    "performance = pd.DataFrame({\"Type\":[\"Music\",\"Musical\",\"Speaker\"],\n",
    "                             \"Percent\":[music, musical, speaker]})\n",
    "performance"
   ]
  },
  {
   "cell_type": "code",
   "execution_count": 30,
   "id": "f9a47690",
   "metadata": {
    "execution": {
     "iopub.execute_input": "2022-10-13T02:56:02.717989Z",
     "iopub.status.busy": "2022-10-13T02:56:02.717589Z",
     "iopub.status.idle": "2022-10-13T02:56:02.939903Z",
     "shell.execute_reply": "2022-10-13T02:56:02.938853Z"
    },
    "id": "TDHOobi8jONh",
    "outputId": "21c819db-cbcb-431d-b037-4850972970b4",
    "papermill": {
     "duration": 0.244275,
     "end_time": "2022-10-13T02:56:02.942595",
     "exception": false,
     "start_time": "2022-10-13T02:56:02.698320",
     "status": "completed"
    },
    "tags": []
   },
   "outputs": [
    {
     "data": {
      "text/plain": [
       "<AxesSubplot:xlabel='Type'>"
      ]
     },
     "execution_count": 30,
     "metadata": {},
     "output_type": "execute_result"
    },
    {
     "data": {
      "image/png": "[encoded data removed]",
      "text/plain": [
       "<Figure size 720x432 with 1 Axes>"
      ]
     },
     "metadata": {
      "needs_background": "light"
     },
     "output_type": "display_data"
    }
   ],
   "source": [
    "performance.plot(x=\"Type\", y=\"Percent\", kind='bar', figsize=(10,6))"
   ]
  },
  {
   "cell_type": "markdown",
   "id": "aa21e26f",
   "metadata": {
    "id": "wJ3eBDiqMkQg",
    "papermill": {
     "duration": 0.017828,
     "end_time": "2022-10-13T02:56:02.979027",
     "exception": false,
     "start_time": "2022-10-13T02:56:02.961199",
     "status": "completed"
    },
    "tags": []
   },
   "source": [
    "This data was used to compare the % of ticket sales from each performance type to % of showings in each performance type, which we showed in our presentation."
   ]
  },
  {
   "cell_type": "code",
   "execution_count": 31,
   "id": "23d3021f",
   "metadata": {
    "execution": {
     "iopub.execute_input": "2022-10-13T02:56:03.016720Z",
     "iopub.status.busy": "2022-10-13T02:56:03.016346Z",
     "iopub.status.idle": "2022-10-13T02:56:03.024864Z",
     "shell.execute_reply": "2022-10-13T02:56:03.023739Z"
    },
    "id": "g4N0gS_RIGIr",
    "outputId": "1e2570e1-3932-426c-ce74-90e668baf013",
    "papermill": {
     "duration": 0.029895,
     "end_time": "2022-10-13T02:56:03.027005",
     "exception": false,
     "start_time": "2022-10-13T02:56:02.997110",
     "status": "completed"
    },
    "tags": []
   },
   "outputs": [
    {
     "data": {
      "text/plain": [
       "Musical    14\n",
       "Music      10\n",
       "Speaker     5\n",
       "Name: Performance.Type, dtype: int64"
      ]
     },
     "execution_count": 31,
     "metadata": {},
     "output_type": "execute_result"
    }
   ],
   "source": [
    "performance_tickets[\"Performance.Type\"].value_counts()"
   ]
  },
  {
   "cell_type": "markdown",
   "id": "47de7d72",
   "metadata": {
    "papermill": {
     "duration": 0.017622,
     "end_time": "2022-10-13T02:56:03.062745",
     "exception": false,
     "start_time": "2022-10-13T02:56:03.045123",
     "status": "completed"
    },
    "tags": []
   },
   "source": [
    "Partial credit to Maddie Anderson, Delaney Burns, and Myjae Maloy"
   ]
  }
 ],
 "metadata": {
  "kernelspec": {
   "display_name": "Python 3",
   "language": "python",
   "name": "python3"
  },
  "language_info": {
   "codemirror_mode": {
    "name": "ipython",
    "version": 3
   },
   "file_extension": ".py",
   "mimetype": "text/x-python",
   "name": "python",
   "nbconvert_exporter": "python",
   "pygments_lexer": "ipython3",
   "version": "3.7.12"
  },
  "papermill": {
   "default_parameters": {},
   "duration": 14.245356,
   "end_time": "2022-10-13T02:56:03.802554",
   "environment_variables": {},
   "exception": null,
   "input_path": "__notebook__.ipynb",
   "output_path": "__notebook__.ipynb",
   "parameters": {},
   "start_time": "2022-10-13T02:55:49.557198",
   "version": "2.3.4"
  }
 },
 "nbformat": 4,
 "nbformat_minor": 5
}
